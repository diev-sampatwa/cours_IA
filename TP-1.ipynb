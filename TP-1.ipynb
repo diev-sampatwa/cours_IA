{
 "cells": [
  {
   "cell_type": "markdown",
   "id": "d2913d17-d205-47a2-9afc-d9d117c555f9",
   "metadata": {
    "tags": []
   },
   "source": [
    "# TP1"
   ]
  },
  {
   "cell_type": "code",
   "execution_count": 103,
   "id": "6026ef73-62ea-49b0-9185-bcd4f5310950",
   "metadata": {
    "tags": []
   },
   "outputs": [],
   "source": [
    "import numpy as np\n",
    "import pandas as pd\n",
    "from sklearn.model_selection import train_test_split\n",
    "from sklearn.linear_model import LinearRegression\n",
    "from sklearn.metrics import mean_squared_error, r2_score\n",
    "import matplotlib.pyplot as plt"
   ]
  },
  {
   "cell_type": "code",
   "execution_count": 104,
   "id": "6e594d38-bf0b-4504-ad21-0d84f7e6319e",
   "metadata": {
    "tags": []
   },
   "outputs": [],
   "source": [
    "data = pd.read_csv('data/USA_Housing.csv')"
   ]
  },
  {
   "cell_type": "code",
   "execution_count": 105,
   "id": "faced5c3-c58a-4f4f-9cab-de3da11e3b4e",
   "metadata": {
    "tags": []
   },
   "outputs": [
    {
     "data": {
      "text/plain": [
       "Avg. Area Income                0\n",
       "Avg. Area House Age             0\n",
       "Avg. Area Number of Rooms       0\n",
       "Avg. Area Number of Bedrooms    0\n",
       "Area Population                 0\n",
       "Price                           0\n",
       "Address                         0\n",
       "dtype: int64"
      ]
     },
     "execution_count": 105,
     "metadata": {},
     "output_type": "execute_result"
    }
   ],
   "source": [
    "data.isnull().sum()"
   ]
  },
  {
   "cell_type": "code",
   "execution_count": 106,
   "id": "2e6c973b-6d77-4ea0-8038-4d3f0fc0978d",
   "metadata": {
    "tags": []
   },
   "outputs": [
    {
     "name": "stdout",
     "output_type": "stream",
     "text": [
      "<class 'pandas.core.frame.DataFrame'>\n",
      "RangeIndex: 5000 entries, 0 to 4999\n",
      "Data columns (total 7 columns):\n",
      " #   Column                        Non-Null Count  Dtype  \n",
      "---  ------                        --------------  -----  \n",
      " 0   Avg. Area Income              5000 non-null   float64\n",
      " 1   Avg. Area House Age           5000 non-null   float64\n",
      " 2   Avg. Area Number of Rooms     5000 non-null   float64\n",
      " 3   Avg. Area Number of Bedrooms  5000 non-null   float64\n",
      " 4   Area Population               5000 non-null   float64\n",
      " 5   Price                         5000 non-null   float64\n",
      " 6   Address                       5000 non-null   object \n",
      "dtypes: float64(6), object(1)\n",
      "memory usage: 273.6+ KB\n"
     ]
    }
   ],
   "source": [
    "data.info()"
   ]
  },
  {
   "cell_type": "markdown",
   "id": "6ff67804-6a88-49a6-be73-5c7229ce7888",
   "metadata": {
    "tags": []
   },
   "source": [
    "# 2. Division des donnees"
   ]
  },
  {
   "cell_type": "code",
   "execution_count": 107,
   "id": "7da88cae-daff-467a-876e-b3f85263678c",
   "metadata": {
    "tags": []
   },
   "outputs": [],
   "source": [
    "X = data.iloc[ : , :1 ].values\n",
    "y = data.iloc[ : , -2].values"
   ]
  },
  {
   "cell_type": "code",
   "execution_count": 108,
   "id": "e6c27fd8-915f-4770-909f-d2f88d50bb9f",
   "metadata": {
    "tags": []
   },
   "outputs": [
    {
     "data": {
      "text/plain": [
       "array([[79545.45857432],\n",
       "       [79248.64245483],\n",
       "       [61287.06717866],\n",
       "       ...,\n",
       "       [63390.6868855 ],\n",
       "       [68001.33123509],\n",
       "       [65510.58180367]])"
      ]
     },
     "execution_count": 108,
     "metadata": {},
     "output_type": "execute_result"
    }
   ],
   "source": [
    "X"
   ]
  },
  {
   "cell_type": "code",
   "execution_count": 109,
   "id": "1d41f596-711d-418e-a2f1-fa38d4388e6b",
   "metadata": {
    "tags": []
   },
   "outputs": [
    {
     "data": {
      "text/plain": [
       "array([1059033.55787012, 1505890.91484695, 1058987.98787608, ...,\n",
       "       1030729.58315229, 1198656.87240769, 1298950.48026696])"
      ]
     },
     "execution_count": 109,
     "metadata": {},
     "output_type": "execute_result"
    }
   ],
   "source": [
    "y"
   ]
  },
  {
   "cell_type": "markdown",
   "id": "110ff5db-7740-4646-b40a-c98015a77c2b",
   "metadata": {
    "tags": []
   },
   "source": [
    "# 4.1 Separation de donnees : Train et Test"
   ]
  },
  {
   "cell_type": "code",
   "execution_count": 110,
   "id": "fe128bfc-538b-48e6-b9a7-33e671811491",
   "metadata": {
    "tags": []
   },
   "outputs": [],
   "source": [
    "X_train, X_test, y_train, y_test = train_test_split(X, y, test_size=0.25, random_state=43)"
   ]
  },
  {
   "cell_type": "code",
   "execution_count": 111,
   "id": "085f27f4-ab5e-4726-bb80-33aa3214e629",
   "metadata": {
    "tags": []
   },
   "outputs": [
    {
     "name": "stdout",
     "output_type": "stream",
     "text": [
      "X-train Shape:  (3750, 1)\n",
      "X-test Shape:  (1250, 1)\n",
      "y-train Shape:  (3750,)\n",
      "y-test Shape:  (1250,)\n"
     ]
    }
   ],
   "source": [
    "print('X-train Shape: ', X_train.shape)\n",
    "print('X-test Shape: ', X_test.shape)\n",
    "print('y-train Shape: ', y_train.shape)\n",
    "print('y-test Shape: ', y_test.shape)"
   ]
  },
  {
   "cell_type": "markdown",
   "id": "aef2018d-3ea8-4616-8c4f-ae6fec953887",
   "metadata": {
    "tags": []
   },
   "source": [
    "# 5. Construire le Modele"
   ]
  },
  {
   "cell_type": "code",
   "execution_count": 112,
   "id": "e0b4b4bb-965f-4521-bf8f-c66dc666a369",
   "metadata": {
    "tags": []
   },
   "outputs": [],
   "source": [
    "modele_lineaire = LinearRegression()"
   ]
  },
  {
   "cell_type": "code",
   "execution_count": 113,
   "id": "e86113a9-e83f-4e02-82d0-57b22fd20cb6",
   "metadata": {
    "tags": []
   },
   "outputs": [
    {
     "data": {
      "text/html": [
       "<style>#sk-container-id-4 {color: black;}#sk-container-id-4 pre{padding: 0;}#sk-container-id-4 div.sk-toggleable {background-color: white;}#sk-container-id-4 label.sk-toggleable__label {cursor: pointer;display: block;width: 100%;margin-bottom: 0;padding: 0.3em;box-sizing: border-box;text-align: center;}#sk-container-id-4 label.sk-toggleable__label-arrow:before {content: \"▸\";float: left;margin-right: 0.25em;color: #696969;}#sk-container-id-4 label.sk-toggleable__label-arrow:hover:before {color: black;}#sk-container-id-4 div.sk-estimator:hover label.sk-toggleable__label-arrow:before {color: black;}#sk-container-id-4 div.sk-toggleable__content {max-height: 0;max-width: 0;overflow: hidden;text-align: left;background-color: #f0f8ff;}#sk-container-id-4 div.sk-toggleable__content pre {margin: 0.2em;color: black;border-radius: 0.25em;background-color: #f0f8ff;}#sk-container-id-4 input.sk-toggleable__control:checked~div.sk-toggleable__content {max-height: 200px;max-width: 100%;overflow: auto;}#sk-container-id-4 input.sk-toggleable__control:checked~label.sk-toggleable__label-arrow:before {content: \"▾\";}#sk-container-id-4 div.sk-estimator input.sk-toggleable__control:checked~label.sk-toggleable__label {background-color: #d4ebff;}#sk-container-id-4 div.sk-label input.sk-toggleable__control:checked~label.sk-toggleable__label {background-color: #d4ebff;}#sk-container-id-4 input.sk-hidden--visually {border: 0;clip: rect(1px 1px 1px 1px);clip: rect(1px, 1px, 1px, 1px);height: 1px;margin: -1px;overflow: hidden;padding: 0;position: absolute;width: 1px;}#sk-container-id-4 div.sk-estimator {font-family: monospace;background-color: #f0f8ff;border: 1px dotted black;border-radius: 0.25em;box-sizing: border-box;margin-bottom: 0.5em;}#sk-container-id-4 div.sk-estimator:hover {background-color: #d4ebff;}#sk-container-id-4 div.sk-parallel-item::after {content: \"\";width: 100%;border-bottom: 1px solid gray;flex-grow: 1;}#sk-container-id-4 div.sk-label:hover label.sk-toggleable__label {background-color: #d4ebff;}#sk-container-id-4 div.sk-serial::before {content: \"\";position: absolute;border-left: 1px solid gray;box-sizing: border-box;top: 0;bottom: 0;left: 50%;z-index: 0;}#sk-container-id-4 div.sk-serial {display: flex;flex-direction: column;align-items: center;background-color: white;padding-right: 0.2em;padding-left: 0.2em;position: relative;}#sk-container-id-4 div.sk-item {position: relative;z-index: 1;}#sk-container-id-4 div.sk-parallel {display: flex;align-items: stretch;justify-content: center;background-color: white;position: relative;}#sk-container-id-4 div.sk-item::before, #sk-container-id-4 div.sk-parallel-item::before {content: \"\";position: absolute;border-left: 1px solid gray;box-sizing: border-box;top: 0;bottom: 0;left: 50%;z-index: -1;}#sk-container-id-4 div.sk-parallel-item {display: flex;flex-direction: column;z-index: 1;position: relative;background-color: white;}#sk-container-id-4 div.sk-parallel-item:first-child::after {align-self: flex-end;width: 50%;}#sk-container-id-4 div.sk-parallel-item:last-child::after {align-self: flex-start;width: 50%;}#sk-container-id-4 div.sk-parallel-item:only-child::after {width: 0;}#sk-container-id-4 div.sk-dashed-wrapped {border: 1px dashed gray;margin: 0 0.4em 0.5em 0.4em;box-sizing: border-box;padding-bottom: 0.4em;background-color: white;}#sk-container-id-4 div.sk-label label {font-family: monospace;font-weight: bold;display: inline-block;line-height: 1.2em;}#sk-container-id-4 div.sk-label-container {text-align: center;}#sk-container-id-4 div.sk-container {/* jupyter's `normalize.less` sets `[hidden] { display: none; }` but bootstrap.min.css set `[hidden] { display: none !important; }` so we also need the `!important` here to be able to override the default hidden behavior on the sphinx rendered scikit-learn.org. See: https://github.com/scikit-learn/scikit-learn/issues/21755 */display: inline-block !important;position: relative;}#sk-container-id-4 div.sk-text-repr-fallback {display: none;}</style><div id=\"sk-container-id-4\" class=\"sk-top-container\"><div class=\"sk-text-repr-fallback\"><pre>LinearRegression()</pre><b>In a Jupyter environment, please rerun this cell to show the HTML representation or trust the notebook. <br />On GitHub, the HTML representation is unable to render, please try loading this page with nbviewer.org.</b></div><div class=\"sk-container\" hidden><div class=\"sk-item\"><div class=\"sk-estimator sk-toggleable\"><input class=\"sk-toggleable__control sk-hidden--visually\" id=\"sk-estimator-id-4\" type=\"checkbox\" checked><label for=\"sk-estimator-id-4\" class=\"sk-toggleable__label sk-toggleable__label-arrow\">LinearRegression</label><div class=\"sk-toggleable__content\"><pre>LinearRegression()</pre></div></div></div></div></div>"
      ],
      "text/plain": [
       "LinearRegression()"
      ]
     },
     "execution_count": 113,
     "metadata": {},
     "output_type": "execute_result"
    }
   ],
   "source": [
    "# Entrainement du modele\n",
    "modele_lineaire.fit(X_train, y_train)"
   ]
  },
  {
   "cell_type": "code",
   "execution_count": 114,
   "id": "f82cf537-2c45-4fc7-9859-21b94e8ba66a",
   "metadata": {
    "tags": []
   },
   "outputs": [],
   "source": [
    "y_price_pred = modele_lineaire.predict(X_test)"
   ]
  },
  {
   "cell_type": "code",
   "execution_count": 115,
   "id": "55870c32-cd71-4012-bad2-e458ca569b16",
   "metadata": {
    "tags": []
   },
   "outputs": [],
   "source": [
    "result = pd.DataFrame(y_test, y_price_pred)"
   ]
  },
  {
   "cell_type": "code",
   "execution_count": 116,
   "id": "7913b9f4-1969-431d-9ebf-df7f148af8ff",
   "metadata": {
    "tags": []
   },
   "outputs": [
    {
     "data": {
      "text/html": [
       "<div>\n",
       "<style scoped>\n",
       "    .dataframe tbody tr th:only-of-type {\n",
       "        vertical-align: middle;\n",
       "    }\n",
       "\n",
       "    .dataframe tbody tr th {\n",
       "        vertical-align: top;\n",
       "    }\n",
       "\n",
       "    .dataframe thead th {\n",
       "        text-align: right;\n",
       "    }\n",
       "</style>\n",
       "<table border=\"1\" class=\"dataframe\">\n",
       "  <thead>\n",
       "    <tr style=\"text-align: right;\">\n",
       "      <th></th>\n",
       "      <th>0</th>\n",
       "    </tr>\n",
       "  </thead>\n",
       "  <tbody>\n",
       "    <tr>\n",
       "      <th>9.678207e+05</th>\n",
       "      <td>7.384115e+05</td>\n",
       "    </tr>\n",
       "    <tr>\n",
       "      <th>1.362138e+06</th>\n",
       "      <td>1.621982e+06</td>\n",
       "    </tr>\n",
       "    <tr>\n",
       "      <th>1.318759e+06</th>\n",
       "      <td>1.160398e+06</td>\n",
       "    </tr>\n",
       "    <tr>\n",
       "      <th>1.198338e+06</th>\n",
       "      <td>8.435362e+05</td>\n",
       "    </tr>\n",
       "    <tr>\n",
       "      <th>1.180522e+06</th>\n",
       "      <td>8.763488e+05</td>\n",
       "    </tr>\n",
       "    <tr>\n",
       "      <th>...</th>\n",
       "      <td>...</td>\n",
       "    </tr>\n",
       "    <tr>\n",
       "      <th>1.762047e+06</th>\n",
       "      <td>1.708102e+06</td>\n",
       "    </tr>\n",
       "    <tr>\n",
       "      <th>1.102120e+06</th>\n",
       "      <td>7.777189e+05</td>\n",
       "    </tr>\n",
       "    <tr>\n",
       "      <th>9.083927e+05</th>\n",
       "      <td>1.009972e+06</td>\n",
       "    </tr>\n",
       "    <tr>\n",
       "      <th>1.185878e+06</th>\n",
       "      <td>1.061552e+06</td>\n",
       "    </tr>\n",
       "    <tr>\n",
       "      <th>1.362751e+06</th>\n",
       "      <td>1.061786e+06</td>\n",
       "    </tr>\n",
       "  </tbody>\n",
       "</table>\n",
       "<p>1250 rows × 1 columns</p>\n",
       "</div>"
      ],
      "text/plain": [
       "                         0\n",
       "9.678207e+05  7.384115e+05\n",
       "1.362138e+06  1.621982e+06\n",
       "1.318759e+06  1.160398e+06\n",
       "1.198338e+06  8.435362e+05\n",
       "1.180522e+06  8.763488e+05\n",
       "...                    ...\n",
       "1.762047e+06  1.708102e+06\n",
       "1.102120e+06  7.777189e+05\n",
       "9.083927e+05  1.009972e+06\n",
       "1.185878e+06  1.061552e+06\n",
       "1.362751e+06  1.061786e+06\n",
       "\n",
       "[1250 rows x 1 columns]"
      ]
     },
     "execution_count": 116,
     "metadata": {},
     "output_type": "execute_result"
    }
   ],
   "source": [
    "result"
   ]
  },
  {
   "cell_type": "code",
   "execution_count": 117,
   "id": "f4d9cae6-47a0-4ce1-a01d-cc45119725d1",
   "metadata": {
    "tags": []
   },
   "outputs": [
    {
     "name": "stdout",
     "output_type": "stream",
     "text": [
      "MSE de la regression Lineaire : 75851024335.87088\n"
     ]
    }
   ],
   "source": [
    "# Evaluation du modele\n",
    "print('MSE de la regression Lineaire :',mean_squared_error(y_test, y_price_pred))"
   ]
  },
  {
   "cell_type": "code",
   "execution_count": 118,
   "id": "3a1c464c-6d7a-49c8-8359-3984f90ef4c8",
   "metadata": {
    "tags": []
   },
   "outputs": [
    {
     "name": "stdout",
     "output_type": "stream",
     "text": [
      "R2 Score de la regression Lineaire : 0.407977180439141\n"
     ]
    }
   ],
   "source": [
    "print('R2 Score de la regression Lineaire :',r2_score(y_test, y_price_pred))"
   ]
  },
  {
   "cell_type": "code",
   "execution_count": 119,
   "id": "23226b30-be66-4a94-8d5f-2328936d50e1",
   "metadata": {
    "tags": []
   },
   "outputs": [
    {
     "data": {
      "image/png": "[encoded data removed]",
      "text/plain": [
       "<Figure size 640x480 with 1 Axes>"
      ]
     },
     "metadata": {},
     "output_type": "display_data"
    }
   ],
   "source": [
    "# 6. Visualisation de Resultats\n",
    "plt.scatter(X_train,y_train,color='yellow', label='Train Data')\n",
    "plt.scatter(X_test,y_test,color='blue', label='Test Data')\n",
    "plt.plot(X_train, modele_lineaire.predict(X_train), color='red', label='Ligne de regression')\n",
    "plt.xlabel('Area')\n",
    "plt.ylabel('price')\n",
    "plt.legend()\n",
    "plt.show()"
   ]
  },
  {
   "cell_type": "markdown",
   "id": "8bd36299-0947-4a8b-b647-2514020fba90",
   "metadata": {
    "tags": []
   },
   "source": [
    "# 7. Prediction simple"
   ]
  },
  {
   "cell_type": "code",
   "execution_count": 120,
   "id": "0533f822-71ac-4d20-b46a-01a29e0bb396",
   "metadata": {
    "tags": []
   },
   "outputs": [],
   "source": [
    "resultat = pd.DataFrame({'y-area-test' : y_test,'y-price-predits': y_price_pred })"
   ]
  },
  {
   "cell_type": "code",
   "execution_count": 121,
   "id": "10ab793c-cb7f-406a-a0c2-73c6e1a95837",
   "metadata": {
    "tags": []
   },
   "outputs": [
    {
     "data": {
      "text/html": [
       "<div>\n",
       "<style scoped>\n",
       "    .dataframe tbody tr th:only-of-type {\n",
       "        vertical-align: middle;\n",
       "    }\n",
       "\n",
       "    .dataframe tbody tr th {\n",
       "        vertical-align: top;\n",
       "    }\n",
       "\n",
       "    .dataframe thead th {\n",
       "        text-align: right;\n",
       "    }\n",
       "</style>\n",
       "<table border=\"1\" class=\"dataframe\">\n",
       "  <thead>\n",
       "    <tr style=\"text-align: right;\">\n",
       "      <th></th>\n",
       "      <th>y-area-test</th>\n",
       "      <th>y-price-predits</th>\n",
       "      <th>difference</th>\n",
       "    </tr>\n",
       "  </thead>\n",
       "  <tbody>\n",
       "    <tr>\n",
       "      <th>0</th>\n",
       "      <td>7.384115e+05</td>\n",
       "      <td>9.678207e+05</td>\n",
       "      <td>-229409.157890</td>\n",
       "    </tr>\n",
       "    <tr>\n",
       "      <th>1</th>\n",
       "      <td>1.621982e+06</td>\n",
       "      <td>1.362138e+06</td>\n",
       "      <td>259844.687878</td>\n",
       "    </tr>\n",
       "    <tr>\n",
       "      <th>2</th>\n",
       "      <td>1.160398e+06</td>\n",
       "      <td>1.318759e+06</td>\n",
       "      <td>-158361.283426</td>\n",
       "    </tr>\n",
       "    <tr>\n",
       "      <th>3</th>\n",
       "      <td>8.435362e+05</td>\n",
       "      <td>1.198338e+06</td>\n",
       "      <td>-354801.741505</td>\n",
       "    </tr>\n",
       "    <tr>\n",
       "      <th>4</th>\n",
       "      <td>8.763488e+05</td>\n",
       "      <td>1.180522e+06</td>\n",
       "      <td>-304172.920360</td>\n",
       "    </tr>\n",
       "    <tr>\n",
       "      <th>...</th>\n",
       "      <td>...</td>\n",
       "      <td>...</td>\n",
       "      <td>...</td>\n",
       "    </tr>\n",
       "    <tr>\n",
       "      <th>1245</th>\n",
       "      <td>1.708102e+06</td>\n",
       "      <td>1.762047e+06</td>\n",
       "      <td>-53944.477708</td>\n",
       "    </tr>\n",
       "    <tr>\n",
       "      <th>1246</th>\n",
       "      <td>7.777189e+05</td>\n",
       "      <td>1.102120e+06</td>\n",
       "      <td>-324401.466049</td>\n",
       "    </tr>\n",
       "    <tr>\n",
       "      <th>1247</th>\n",
       "      <td>1.009972e+06</td>\n",
       "      <td>9.083927e+05</td>\n",
       "      <td>101579.365778</td>\n",
       "    </tr>\n",
       "    <tr>\n",
       "      <th>1248</th>\n",
       "      <td>1.061552e+06</td>\n",
       "      <td>1.185878e+06</td>\n",
       "      <td>-124325.778921</td>\n",
       "    </tr>\n",
       "    <tr>\n",
       "      <th>1249</th>\n",
       "      <td>1.061786e+06</td>\n",
       "      <td>1.362751e+06</td>\n",
       "      <td>-300965.089117</td>\n",
       "    </tr>\n",
       "  </tbody>\n",
       "</table>\n",
       "<p>1250 rows × 3 columns</p>\n",
       "</div>"
      ],
      "text/plain": [
       "       y-area-test  y-price-predits     difference\n",
       "0     7.384115e+05     9.678207e+05 -229409.157890\n",
       "1     1.621982e+06     1.362138e+06  259844.687878\n",
       "2     1.160398e+06     1.318759e+06 -158361.283426\n",
       "3     8.435362e+05     1.198338e+06 -354801.741505\n",
       "4     8.763488e+05     1.180522e+06 -304172.920360\n",
       "...            ...              ...            ...\n",
       "1245  1.708102e+06     1.762047e+06  -53944.477708\n",
       "1246  7.777189e+05     1.102120e+06 -324401.466049\n",
       "1247  1.009972e+06     9.083927e+05  101579.365778\n",
       "1248  1.061552e+06     1.185878e+06 -124325.778921\n",
       "1249  1.061786e+06     1.362751e+06 -300965.089117\n",
       "\n",
       "[1250 rows x 3 columns]"
      ]
     },
     "execution_count": 121,
     "metadata": {},
     "output_type": "execute_result"
    }
   ],
   "source": [
    "resultat['difference'] = resultat['y-area-test'] - resultat['y-price-predits']\n",
    "resultat"
   ]
  },
  {
   "cell_type": "code",
   "execution_count": 122,
   "id": "f69f49ad-f6af-44ad-af83-b706da743125",
   "metadata": {
    "tags": []
   },
   "outputs": [
    {
     "name": "stdout",
     "output_type": "stream",
     "text": [
      "[1080829.81869227]\n"
     ]
    }
   ],
   "source": [
    "print(modele_lineaire.predict([[61287.067178656784]]))"
   ]
  }
 ],
 "metadata": {
  "kernelspec": {
   "display_name": "Python 3 (ipykernel)",
   "language": "python",
   "name": "python3"
  },
  "language_info": {
   "codemirror_mode": {
    "name": "ipython",
    "version": 3
   },
   "file_extension": ".py",
   "mimetype": "text/x-python",
   "name": "python",
   "nbconvert_exporter": "python",
   "pygments_lexer": "ipython3",
   "version": "3.11.5"
  }
 },
 "nbformat": 4,
 "nbformat_minor": 5
}
