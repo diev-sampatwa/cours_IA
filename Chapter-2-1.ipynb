{
 "cells": [
  {
   "cell_type": "code",
   "execution_count": null,
   "id": "e98c68cc-95fa-44fc-9cf7-adcf269c50ce",
   "metadata": {
    "tags": []
   },
   "outputs": [],
   "source": [
    "# Importer les packages\n",
    "import numpy as np\n",
    "import pandas as pd\n",
    "import seaborn as sns\n",
    "import matplotlib.pyplot as plt\n",
    "from sklearn.model_selection import train_test_split\n",
    "from sklearn.linear_model import LinearRegression\n",
    "from sklearn.metrics import mean_squared_error, r2_score\n",
    "from sklearn.ensemble import RandomForestRegressor\n",
    "from sklearn.tree import DecisionTreeRegressor\n",
    "from sklearn.neighbors import KNeighborsRegressor\n",
    "import warnings"
   ]
  },
  {
   "cell_type": "code",
   "execution_count": null,
   "id": "4b4f14bb-e354-48af-b161-77c958573d8a",
   "metadata": {
    "tags": []
   },
   "outputs": [],
   "source": [
    "# Charger les donnees\n",
    "data = pd.read_csv('data/Real-state.csv')\n",
    "data.head()"
   ]
  },
  {
   "cell_type": "markdown",
   "id": "24aa9b46-d72c-40ff-8d6e-9ed9ba40c0ee",
   "metadata": {},
   "source": [
    "# 3. Analyses des donnees"
   ]
  },
  {
   "cell_type": "code",
   "execution_count": null,
   "id": "70571f72-7942-406b-8f15-5d72308bb6af",
   "metadata": {
    "tags": []
   },
   "outputs": [],
   "source": [
    "data.info()"
   ]
  },
  {
   "cell_type": "code",
   "execution_count": null,
   "id": "ea57e011-ebdd-44c9-9705-3aee07a70adf",
   "metadata": {
    "tags": []
   },
   "outputs": [],
   "source": [
    "data.columns"
   ]
  },
  {
   "cell_type": "code",
   "execution_count": null,
   "id": "db17cc0d-a2b0-4031-b1a5-da212a4c5b37",
   "metadata": {
    "tags": []
   },
   "outputs": [],
   "source": [
    "data.isnull().sum()"
   ]
  },
  {
   "cell_type": "code",
   "execution_count": null,
   "id": "fdc23d6e-2bcb-4001-b319-425204c790b8",
   "metadata": {
    "tags": []
   },
   "outputs": [],
   "source": [
    "# Affichage de la matrice de correlation\n",
    "sns.heatmap(data.corr(), annot=True)"
   ]
  },
  {
   "cell_type": "code",
   "execution_count": null,
   "id": "7ea66ef9-fda9-437a-84a8-0b9c3060164f",
   "metadata": {},
   "outputs": [],
   "source": [
    "pd.set_option('display.max_rows', None)\n",
    "data['X4 number of convenience stores'].unique()"
   ]
  },
  {
   "cell_type": "code",
   "execution_count": null,
   "id": "ffefa5c6-e66e-40aa-a068-e7d2d82e49e0",
   "metadata": {
    "tags": []
   },
   "outputs": [],
   "source": [
    "data['X4 number of convenience stores'].value_counts()"
   ]
  },
  {
   "cell_type": "markdown",
   "id": "1a22baed-26e1-45c6-9e3a-4f808c61b0e6",
   "metadata": {},
   "source": [
    "# 4. Division des donnees"
   ]
  },
  {
   "cell_type": "code",
   "execution_count": null,
   "id": "35ed8156-6fc6-483d-bd73-e2000f16cb42",
   "metadata": {},
   "outputs": [],
   "source": [
    "# pd.set_option('displays.max_columns', None)"
   ]
  },
  {
   "cell_type": "code",
   "execution_count": null,
   "id": "4830ab0f-ef52-44af-88a8-6fd14acc9716",
   "metadata": {
    "tags": []
   },
   "outputs": [],
   "source": [
    "data.head(2)"
   ]
  },
  {
   "cell_type": "code",
   "execution_count": null,
   "id": "23561c8d-c11e-4828-9976-102130d9de81",
   "metadata": {
    "tags": []
   },
   "outputs": [],
   "source": [
    "X = data.drop(columns='Y house price of unit area', axis=1)\n",
    "y = data['Y house price of unit area']"
   ]
  },
  {
   "cell_type": "code",
   "execution_count": null,
   "id": "5acea7e5-bc93-4b81-94ef-0f41f0657e4a",
   "metadata": {
    "tags": []
   },
   "outputs": [],
   "source": [
    "X.head()"
   ]
  },
  {
   "cell_type": "code",
   "execution_count": null,
   "id": "b03c7482-5dc5-4c4c-9656-e6f95208a5c8",
   "metadata": {
    "tags": []
   },
   "outputs": [],
   "source": [
    "# Separation des donnees : Train et Test\n",
    "X_train, X_test, y_train, y_test = train_test_split(X, y, train_size=0.8, random_state=0)"
   ]
  },
  {
   "cell_type": "code",
   "execution_count": null,
   "id": "94a50e86-ea62-4153-909e-8d26db1c0399",
   "metadata": {
    "tags": []
   },
   "outputs": [],
   "source": [
    "data.shape"
   ]
  },
  {
   "cell_type": "code",
   "execution_count": null,
   "id": "04abb66d-430f-4fdc-b5a3-dc966958ad56",
   "metadata": {
    "tags": []
   },
   "outputs": [],
   "source": [
    "print('X-train Shape: ', X_train.shape)\n",
    "print('X-test Shape: ', X_test.shape)\n",
    "print('y-train Shape: ', y_train.shape)\n",
    "print('y-test Shape: ', y_test.shape)"
   ]
  },
  {
   "cell_type": "markdown",
   "id": "a501ca4e-5883-4962-bc48-f373c6ac5b98",
   "metadata": {},
   "source": [
    "# 5. Construction des modeles"
   ]
  },
  {
   "cell_type": "markdown",
   "id": "b1f5e2f3-b7eb-4d81-a708-2c543b63d003",
   "metadata": {},
   "source": [
    "## 5.1 Linear Regression : Regression Lineaire"
   ]
  },
  {
   "cell_type": "code",
   "execution_count": null,
   "id": "f37aad17-8e9e-4477-bdc2-e64d9ba40cb3",
   "metadata": {
    "tags": []
   },
   "outputs": [],
   "source": [
    "# Creation du modele\n",
    "model_lr = LinearRegression()\n",
    "# Entrainement du modele\n",
    "model_lr.fit(X_train,y_train)\n",
    "# Faire des predictions\n",
    "y_pred_lr = model_lr.predict(X_test)\n",
    "# Evaluation du modele\n",
    "print('MSE du LR:',mean_squared_error(y_test,y_pred_lr))\n",
    "print('R2 du LR:',r2_score(y_test,y_pred_lr))"
   ]
  },
  {
   "cell_type": "markdown",
   "id": "74b89067-d10b-4e35-abca-1a31d33f34df",
   "metadata": {},
   "source": [
    "## 5.2 Random Forest"
   ]
  },
  {
   "cell_type": "code",
   "execution_count": null,
   "id": "daf0b03a-cca5-4d6d-bbe8-fd8cf84bf4f2",
   "metadata": {
    "tags": []
   },
   "outputs": [],
   "source": [
    "# Creation du modele\n",
    "model_rf = RandomForestRegressor()\n",
    "# Entrainement du modele\n",
    "model_rf.fit(X_train,y_train)\n",
    "# Faire des predictions\n",
    "y_pred_rf = model_rf.predict(X_test)\n",
    "# Evaluation du modele\n",
    "print('MSE du RF:',mean_squared_error(y_test,y_pred_rf))\n",
    "print('R2 du RF:',r2_score(y_test,y_pred_rf))"
   ]
  },
  {
   "cell_type": "markdown",
   "id": "2f2f2f13-8199-46fc-aa2b-4fe416d364bc",
   "metadata": {},
   "source": [
    "## 5.3 Decision Tree"
   ]
  },
  {
   "cell_type": "code",
   "execution_count": null,
   "id": "f35c56da-9093-4c31-99de-418ecd7b4ab3",
   "metadata": {
    "tags": []
   },
   "outputs": [],
   "source": [
    "# Creation du modele\n",
    "model_dt = DecisionTreeRegressor()\n",
    "# Entrainement du modele\n",
    "model_dt.fit(X_train,y_train)\n",
    "# Faire des predictions\n",
    "y_pred_dt = model_dt.predict(X_test)\n",
    "# Evaluation du modele\n",
    "print('MSE du DT:',mean_squared_error(y_test,y_pred_dt))\n",
    "print('R2 du DT:',r2_score(y_test,y_pred_dt))"
   ]
  },
  {
   "cell_type": "markdown",
   "id": "5113b4d4-f58f-4298-a2b2-6e317eba5eb2",
   "metadata": {},
   "source": [
    "# 6. Faire des predictions simple"
   ]
  },
  {
   "cell_type": "code",
   "execution_count": null,
   "id": "061f30a8-d012-4879-a891-fc7550d498f4",
   "metadata": {
    "tags": []
   },
   "outputs": [],
   "source": [
    "X.head()"
   ]
  },
  {
   "cell_type": "code",
   "execution_count": null,
   "id": "5309b75e-782f-4aca-a632-54f236af66c1",
   "metadata": {
    "tags": []
   },
   "outputs": [],
   "source": [
    "y.head()"
   ]
  },
  {
   "cell_type": "code",
   "execution_count": null,
   "id": "48803a4e-ba13-41bd-a1f5-39227d70e153",
   "metadata": {
    "tags": []
   },
   "outputs": [],
   "source": [
    "warnings.filterwarnings('ignore')\n",
    "prediction_simple = model_rf.predict([[1,2012.917, 32.0, 84.87882, 10, 24.98298, 121.54024]])"
   ]
  },
  {
   "cell_type": "code",
   "execution_count": null,
   "id": "a69ece4a-2013-44d6-bd24-d0df4453b81e",
   "metadata": {
    "tags": []
   },
   "outputs": [],
   "source": [
    "print(prediction_simple)"
   ]
  },
  {
   "cell_type": "code",
   "execution_count": null,
   "id": "65f97648-5688-4610-a1a7-2de6915b0ffc",
   "metadata": {},
   "outputs": [],
   "source": []
  }
 ],
 "metadata": {
  "kernelspec": {
   "display_name": "Python 3 (ipykernel)",
   "language": "python",
   "name": "python3"
  },
  "language_info": {
   "codemirror_mode": {
    "name": "ipython",
    "version": 3
   },
   "file_extension": ".py",
   "mimetype": "text/x-python",
   "name": "python",
   "nbconvert_exporter": "python",
   "pygments_lexer": "ipython3",
   "version": "3.11.5"
  }
 },
 "nbformat": 4,
 "nbformat_minor": 5
}
