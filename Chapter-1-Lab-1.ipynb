{
 "cells": [
  {
   "cell_type": "markdown",
   "id": "95ee2926-2c3f-463a-ae0d-3b98c9b9c691",
   "metadata": {},
   "source": [
    "# 1. Tableau"
   ]
  },
  {
   "cell_type": "markdown",
   "id": "829c15d7-d5b2-47d3-8090-2966e654fdca",
   "metadata": {},
   "source": [
    "## 1.1 Tableau 1D"
   ]
  },
  {
   "cell_type": "code",
   "execution_count": 1,
   "id": "29495fc4-91ba-455d-a368-2bf32ae374f2",
   "metadata": {
    "tags": []
   },
   "outputs": [],
   "source": [
    "import numpy as np\n",
    "import pandas as pd\n",
    "import matplotlib.pyplot as plt\n",
    "import seaborn as sbn"
   ]
  },
  {
   "cell_type": "code",
   "execution_count": 2,
   "id": "f4a83646-06cd-4988-9f44-ec4d7a3e2539",
   "metadata": {
    "tags": []
   },
   "outputs": [],
   "source": [
    "# Creation d'un tableau à 1D\n",
    "tab_1D = np.array([1,2,3,4,5,6,0])"
   ]
  },
  {
   "cell_type": "code",
   "execution_count": 3,
   "id": "0e068b06-e9f4-490d-80ca-d1dc7ddf3115",
   "metadata": {
    "tags": []
   },
   "outputs": [
    {
     "data": {
      "text/plain": [
       "array([1, 2, 3, 4, 5, 6, 0])"
      ]
     },
     "execution_count": 3,
     "metadata": {},
     "output_type": "execute_result"
    }
   ],
   "source": [
    "tab_1D"
   ]
  },
  {
   "cell_type": "code",
   "execution_count": 4,
   "id": "70766c35-cfb7-44d4-a00e-f9c15c718c08",
   "metadata": {
    "tags": []
   },
   "outputs": [
    {
     "name": "stdout",
     "output_type": "stream",
     "text": [
      "[1 2 3 4 5 6 0]\n"
     ]
    }
   ],
   "source": [
    "print(tab_1D)"
   ]
  },
  {
   "cell_type": "code",
   "execution_count": 5,
   "id": "0d3c5792-2a6f-4484-9119-44ad3df17fca",
   "metadata": {
    "tags": []
   },
   "outputs": [
    {
     "name": "stdout",
     "output_type": "stream",
     "text": [
      "(7,)\n"
     ]
    }
   ],
   "source": [
    "print(tab_1D.shape)"
   ]
  },
  {
   "cell_type": "code",
   "execution_count": 6,
   "id": "945d3f80-72d9-49f1-b092-5e86b92eeeea",
   "metadata": {
    "tags": []
   },
   "outputs": [
    {
     "name": "stdout",
     "output_type": "stream",
     "text": [
      "Dimension du Tableau (7,)\n",
      "Type du Tableau <class 'numpy.ndarray'>\n",
      "Voici le Tableau [1 2 3 4 5 6 0]\n"
     ]
    }
   ],
   "source": [
    "print(\"Dimension du Tableau\", tab_1D.shape)\n",
    "print(\"Type du Tableau\", type(tab_1D))\n",
    "print(\"Voici le Tableau\", tab_1D)"
   ]
  },
  {
   "cell_type": "code",
   "execution_count": 7,
   "id": "664cb5f5-4f51-43e8-b021-59aff84582e6",
   "metadata": {
    "tags": []
   },
   "outputs": [
    {
     "name": "stdout",
     "output_type": "stream",
     "text": [
      "[1 2 3 4 5 6 0]\n"
     ]
    }
   ],
   "source": [
    "# Selection des elements\n",
    "print(tab_1D)"
   ]
  },
  {
   "cell_type": "code",
   "execution_count": 8,
   "id": "ac175935-6a51-4242-b289-f4575569f6d6",
   "metadata": {
    "tags": []
   },
   "outputs": [
    {
     "name": "stdout",
     "output_type": "stream",
     "text": [
      "5\n"
     ]
    }
   ],
   "source": [
    "print(tab_1D[4])"
   ]
  },
  {
   "cell_type": "markdown",
   "id": "0cbb1c6c-7fd1-4ce0-b0f9-8878600a077e",
   "metadata": {},
   "source": [
    "## 1.2 Tableau 2D"
   ]
  },
  {
   "cell_type": "code",
   "execution_count": 9,
   "id": "4b221349-0f3a-44d0-b511-77eb9a107739",
   "metadata": {
    "tags": []
   },
   "outputs": [],
   "source": [
    "# Creation d'un tableau à 2D\n",
    "tab_2D = np.array([\n",
    "    [1,2,3,3,5,6,9],\n",
    "    [3,8,3,5,2,6,0],\n",
    "    [1,2,9,4,5,7,1]\n",
    "])"
   ]
  },
  {
   "cell_type": "code",
   "execution_count": 10,
   "id": "495caf97-b573-4f49-8db6-098910ca13c4",
   "metadata": {
    "tags": []
   },
   "outputs": [
    {
     "name": "stdout",
     "output_type": "stream",
     "text": [
      "Dimension du Tableau (3, 7)\n",
      "Type du Tableau <class 'numpy.ndarray'>\n",
      "[[1 2 3 3 5 6 9]\n",
      " [3 8 3 5 2 6 0]\n",
      " [1 2 9 4 5 7 1]]\n"
     ]
    }
   ],
   "source": [
    "print(\"Dimension du Tableau\", tab_2D.shape)\n",
    "print(\"Type du Tableau\", type(tab_2D))\n",
    "print(tab_2D)"
   ]
  },
  {
   "cell_type": "code",
   "execution_count": 11,
   "id": "15886506-fe1e-4a8d-8339-5fee4f44e061",
   "metadata": {
    "tags": []
   },
   "outputs": [
    {
     "name": "stdout",
     "output_type": "stream",
     "text": [
      "[[1 2 3 3 5 6 9]\n",
      " [3 8 3 5 2 6 0]\n",
      " [1 2 9 4 5 7 1]]\n"
     ]
    }
   ],
   "source": [
    "# Selection des elements\n",
    "print(tab_2D)"
   ]
  },
  {
   "cell_type": "code",
   "execution_count": 12,
   "id": "d67bf18f-b704-4f86-aaac-3857a5ab6c2f",
   "metadata": {
    "tags": []
   },
   "outputs": [
    {
     "name": "stdout",
     "output_type": "stream",
     "text": [
      "3\n"
     ]
    }
   ],
   "source": [
    "print(tab_2D[1][2])"
   ]
  },
  {
   "cell_type": "markdown",
   "id": "6a352b5f-daee-4478-95a3-019da5cf588e",
   "metadata": {},
   "source": [
    "## 1.3 Tableau 3D"
   ]
  },
  {
   "cell_type": "code",
   "execution_count": 13,
   "id": "39baec48-b2c5-40a5-8144-b43e8a0e37b3",
   "metadata": {
    "tags": []
   },
   "outputs": [],
   "source": [
    "# Creation d'un tableau à 3D\n",
    "tab_3D = np.array([\n",
    "    [\n",
    "        [1,2,3,4,5,6],\n",
    "        [4,5,6,7,8,9],\n",
    "    ],\n",
    "    [\n",
    "        [1,2,3,4,5,6],\n",
    "        [4,5,6,7,8,9],\n",
    "    ]\n",
    "    \n",
    "])"
   ]
  },
  {
   "cell_type": "code",
   "execution_count": 14,
   "id": "a13b4ec2-b018-42c8-aa7c-686fe83dcf71",
   "metadata": {
    "tags": []
   },
   "outputs": [
    {
     "name": "stdout",
     "output_type": "stream",
     "text": [
      "Dimension du Tableau (2, 2, 6)\n",
      "Type du Tableau <class 'numpy.ndarray'>\n",
      "[[[1 2 3 4 5 6]\n",
      "  [4 5 6 7 8 9]]\n",
      "\n",
      " [[1 2 3 4 5 6]\n",
      "  [4 5 6 7 8 9]]]\n"
     ]
    }
   ],
   "source": [
    "print(\"Dimension du Tableau\", tab_3D.shape)\n",
    "print(\"Type du Tableau\", type(tab_3D))\n",
    "print(tab_3D)"
   ]
  },
  {
   "cell_type": "code",
   "execution_count": 15,
   "id": "21e1118f-36ca-400a-bba9-c2be655a62c5",
   "metadata": {
    "tags": []
   },
   "outputs": [
    {
     "name": "stdout",
     "output_type": "stream",
     "text": [
      "9\n"
     ]
    }
   ],
   "source": [
    "# Selection des elements\n",
    "print(tab_3D[0][1][5])"
   ]
  },
  {
   "cell_type": "markdown",
   "id": "e52f5038-d87e-4b12-b36a-e8a5d3f94d02",
   "metadata": {},
   "source": [
    "## 1.4 Tableau 4D"
   ]
  },
  {
   "cell_type": "code",
   "execution_count": 16,
   "id": "a5597acf-33b6-45ef-a77c-fadd1b3ea6a9",
   "metadata": {
    "tags": []
   },
   "outputs": [],
   "source": [
    "# Creation d'un tableau à 4D\n",
    "tab_4D = np.array([[\n",
    "    [\n",
    "        [1,2,3,4,5,6],\n",
    "        [4,5,6,7,8,9],\n",
    "    ],\n",
    "    [\n",
    "        [1,2,3,4,5,6],\n",
    "        [4,5,6,7,8,9],\n",
    "    ]\n",
    "    \n",
    "]])"
   ]
  },
  {
   "cell_type": "code",
   "execution_count": 17,
   "id": "4dca2875-7503-4626-a1f3-4377f78836fe",
   "metadata": {
    "tags": []
   },
   "outputs": [
    {
     "name": "stdout",
     "output_type": "stream",
     "text": [
      "Dimension du Tableau (1, 2, 2, 6)\n",
      "Type du Tableau <class 'numpy.ndarray'>\n",
      "[[[[1 2 3 4 5 6]\n",
      "   [4 5 6 7 8 9]]\n",
      "\n",
      "  [[1 2 3 4 5 6]\n",
      "   [4 5 6 7 8 9]]]]\n"
     ]
    }
   ],
   "source": [
    "print(\"Dimension du Tableau\", tab_4D.shape)\n",
    "print(\"Type du Tableau\", type(tab_4D))\n",
    "print(tab_4D)"
   ]
  },
  {
   "cell_type": "code",
   "execution_count": 18,
   "id": "93af7faa-4fea-4a80-acc9-1dfbd3cb6f94",
   "metadata": {},
   "outputs": [
    {
     "name": "stdout",
     "output_type": "stream",
     "text": [
      "7\n"
     ]
    }
   ],
   "source": [
    "# Selection des elements\n",
    "print(tab_4D[0][0][1][3])"
   ]
  },
  {
   "cell_type": "markdown",
   "id": "44a57a99-966c-4327-8203-01ae181f4fda",
   "metadata": {},
   "source": [
    "## B. OPERATIONS"
   ]
  },
  {
   "cell_type": "code",
   "execution_count": 19,
   "id": "21ad9932-393e-4103-9b0b-1ce74b220af5",
   "metadata": {
    "tags": []
   },
   "outputs": [],
   "source": [
    "a = np.array([\n",
    "    [1,2,3,4,5],\n",
    "    [6,7,8,9,10]\n",
    "])\n",
    "    \n",
    "b = np.array([\n",
    "    [11,22,33,44,55],\n",
    "    [66,77,88,9,101]\n",
    "])"
   ]
  },
  {
   "cell_type": "code",
   "execution_count": 20,
   "id": "eb1da3b6-504b-47f9-9710-7b78c7fd72a2",
   "metadata": {
    "tags": []
   },
   "outputs": [
    {
     "name": "stdout",
     "output_type": "stream",
     "text": [
      "(2, 5)\n",
      "[[ 1  2  3  4  5]\n",
      " [ 6  7  8  9 10]]\n",
      "(2, 5)\n",
      "[[ 11  22  33  44  55]\n",
      " [ 66  77  88   9 101]]\n"
     ]
    }
   ],
   "source": [
    "print(a.shape)\n",
    "print(a)\n",
    "print(b.shape)\n",
    "print(b)"
   ]
  },
  {
   "cell_type": "code",
   "execution_count": 21,
   "id": "993ee2f7-b461-4287-9dbe-80ffc15a9c61",
   "metadata": {
    "tags": []
   },
   "outputs": [
    {
     "name": "stdout",
     "output_type": "stream",
     "text": [
      "[[ 12  24  36  48  60]\n",
      " [ 72  84  96  18 111]]\n"
     ]
    }
   ],
   "source": [
    "# Addition\n",
    "print(a + b)"
   ]
  },
  {
   "cell_type": "code",
   "execution_count": 22,
   "id": "94e96da4-b2b0-49f8-94aa-0504e08bb1bf",
   "metadata": {
    "tags": []
   },
   "outputs": [
    {
     "name": "stdout",
     "output_type": "stream",
     "text": [
      "[[-10 -20 -30 -40 -50]\n",
      " [-60 -70 -80   0 -91]]\n"
     ]
    }
   ],
   "source": [
    "# Soustraction\n",
    "print(a - b)"
   ]
  },
  {
   "cell_type": "code",
   "execution_count": 23,
   "id": "8cc4ac21-eb7f-4d4a-a4ba-9096dfca9f41",
   "metadata": {
    "tags": []
   },
   "outputs": [
    {
     "name": "stdout",
     "output_type": "stream",
     "text": [
      "[[0.09090909 0.09090909 0.09090909 0.09090909 0.09090909]\n",
      " [0.09090909 0.09090909 0.09090909 1.         0.0990099 ]]\n"
     ]
    }
   ],
   "source": [
    "# Division\n",
    "print(a / b)"
   ]
  },
  {
   "cell_type": "code",
   "execution_count": 24,
   "id": "3c5aec36-b839-477d-817b-c06b4372c9d6",
   "metadata": {
    "tags": []
   },
   "outputs": [
    {
     "name": "stdout",
     "output_type": "stream",
     "text": [
      "[[  11   44   99  176  275]\n",
      " [ 396  539  704   81 1010]]\n"
     ]
    }
   ],
   "source": [
    "# Multiplication\n",
    "print(a * b)"
   ]
  },
  {
   "cell_type": "markdown",
   "id": "ee5b31fe-ba96-4d69-9dac-e66b424959cf",
   "metadata": {},
   "source": [
    "# C. MANIPULATION DES DONNEES"
   ]
  },
  {
   "cell_type": "code",
   "execution_count": 25,
   "id": "9dd4f231-3dff-403c-8e46-ba2ec4339d35",
   "metadata": {
    "tags": []
   },
   "outputs": [],
   "source": [
    "# Creation d'un dictionnaire\n",
    "Info_Etudiants = {\n",
    "    'Matricule': '2022020116',\n",
    "    'Nom': 'SAMPATWA',\n",
    "    'Prenom': 'Diev',\n",
    "    'Age':23,\n",
    "    'GPA':'A'\n",
    "}"
   ]
  },
  {
   "cell_type": "code",
   "execution_count": 26,
   "id": "89781e05-e499-4ae4-bdf9-0ed604091cc2",
   "metadata": {
    "tags": []
   },
   "outputs": [
    {
     "name": "stdout",
     "output_type": "stream",
     "text": [
      "Diev\n"
     ]
    }
   ],
   "source": [
    "print(Info_Etudiants['Prenom'])"
   ]
  },
  {
   "cell_type": "code",
   "execution_count": 27,
   "id": "29ad2cb5-2708-4f4e-9eb6-dc35fc1b976e",
   "metadata": {
    "tags": []
   },
   "outputs": [],
   "source": [
    "Infos_tous_les_etudiants_BAC3_GL_IA = {\n",
    "    'Matricule': ['2022020100','2022020101','2022020102','2022020103','2022020104','2022020105','2022020106','2022020107','2022020108','2022020109'],\n",
    "    'Nom': ['SAMPATWA','KATUMBA','KIMENYEMBO','KALOKO','KALOMBO','OSOKO','KALUME','UMBA','JAPONAIS','KAPHIA'],\n",
    "    'Prenom': ['Diev','Manasse','Ketsia','Charly','Justin','Ken','Yves','Jonathan','Joe','Jenno'],\n",
    "    'Age': [25,22,12,26,19,21,36,15,23,29],\n",
    "    'GPA': ['A','B','A','C','B','A','C','B','C','A']   \n",
    "}"
   ]
  },
  {
   "cell_type": "code",
   "execution_count": 28,
   "id": "0db170fd-03ff-4683-bfeb-0578ab50a8ef",
   "metadata": {
    "tags": []
   },
   "outputs": [
    {
     "name": "stdout",
     "output_type": "stream",
     "text": [
      "{'Matricule': ['2022020100', '2022020101', '2022020102', '2022020103', '2022020104', '2022020105', '2022020106', '2022020107', '2022020108', '2022020109'], 'Nom': ['SAMPATWA', 'KATUMBA', 'KIMENYEMBO', 'KALOKO', 'KALOMBO', 'OSOKO', 'KALUME', 'UMBA', 'JAPONAIS', 'KAPHIA'], 'Prenom': ['Diev', 'Manasse', 'Ketsia', 'Charly', 'Justin', 'Ken', 'Yves', 'Jonathan', 'Joe', 'Jenno'], 'Age': [25, 22, 12, 26, 19, 21, 36, 15, 23, 29], 'GPA': ['A', 'B', 'A', 'C', 'B', 'A', 'C', 'B', 'C', 'A']}\n"
     ]
    }
   ],
   "source": [
    "print(Infos_tous_les_etudiants_BAC3_GL_IA)"
   ]
  },
  {
   "cell_type": "code",
   "execution_count": 29,
   "id": "5a690620-b08d-47cb-b536-63c8096be297",
   "metadata": {
    "tags": []
   },
   "outputs": [],
   "source": [
    "donnees_etudiants = pd.DataFrame(Infos_tous_les_etudiants_BAC3_GL_IA)"
   ]
  },
  {
   "cell_type": "code",
   "execution_count": 30,
   "id": "44feaa44-c4d4-4a7c-80cc-655a20901497",
   "metadata": {
    "tags": []
   },
   "outputs": [
    {
     "data": {
      "text/html": [
       "<div>\n",
       "<style scoped>\n",
       "    .dataframe tbody tr th:only-of-type {\n",
       "        vertical-align: middle;\n",
       "    }\n",
       "\n",
       "    .dataframe tbody tr th {\n",
       "        vertical-align: top;\n",
       "    }\n",
       "\n",
       "    .dataframe thead th {\n",
       "        text-align: right;\n",
       "    }\n",
       "</style>\n",
       "<table border=\"1\" class=\"dataframe\">\n",
       "  <thead>\n",
       "    <tr style=\"text-align: right;\">\n",
       "      <th></th>\n",
       "      <th>Matricule</th>\n",
       "      <th>Nom</th>\n",
       "      <th>Prenom</th>\n",
       "      <th>Age</th>\n",
       "      <th>GPA</th>\n",
       "    </tr>\n",
       "  </thead>\n",
       "  <tbody>\n",
       "    <tr>\n",
       "      <th>0</th>\n",
       "      <td>2022020100</td>\n",
       "      <td>SAMPATWA</td>\n",
       "      <td>Diev</td>\n",
       "      <td>25</td>\n",
       "      <td>A</td>\n",
       "    </tr>\n",
       "    <tr>\n",
       "      <th>1</th>\n",
       "      <td>2022020101</td>\n",
       "      <td>KATUMBA</td>\n",
       "      <td>Manasse</td>\n",
       "      <td>22</td>\n",
       "      <td>B</td>\n",
       "    </tr>\n",
       "    <tr>\n",
       "      <th>2</th>\n",
       "      <td>2022020102</td>\n",
       "      <td>KIMENYEMBO</td>\n",
       "      <td>Ketsia</td>\n",
       "      <td>12</td>\n",
       "      <td>A</td>\n",
       "    </tr>\n",
       "    <tr>\n",
       "      <th>3</th>\n",
       "      <td>2022020103</td>\n",
       "      <td>KALOKO</td>\n",
       "      <td>Charly</td>\n",
       "      <td>26</td>\n",
       "      <td>C</td>\n",
       "    </tr>\n",
       "    <tr>\n",
       "      <th>4</th>\n",
       "      <td>2022020104</td>\n",
       "      <td>KALOMBO</td>\n",
       "      <td>Justin</td>\n",
       "      <td>19</td>\n",
       "      <td>B</td>\n",
       "    </tr>\n",
       "    <tr>\n",
       "      <th>5</th>\n",
       "      <td>2022020105</td>\n",
       "      <td>OSOKO</td>\n",
       "      <td>Ken</td>\n",
       "      <td>21</td>\n",
       "      <td>A</td>\n",
       "    </tr>\n",
       "    <tr>\n",
       "      <th>6</th>\n",
       "      <td>2022020106</td>\n",
       "      <td>KALUME</td>\n",
       "      <td>Yves</td>\n",
       "      <td>36</td>\n",
       "      <td>C</td>\n",
       "    </tr>\n",
       "    <tr>\n",
       "      <th>7</th>\n",
       "      <td>2022020107</td>\n",
       "      <td>UMBA</td>\n",
       "      <td>Jonathan</td>\n",
       "      <td>15</td>\n",
       "      <td>B</td>\n",
       "    </tr>\n",
       "    <tr>\n",
       "      <th>8</th>\n",
       "      <td>2022020108</td>\n",
       "      <td>JAPONAIS</td>\n",
       "      <td>Joe</td>\n",
       "      <td>23</td>\n",
       "      <td>C</td>\n",
       "    </tr>\n",
       "    <tr>\n",
       "      <th>9</th>\n",
       "      <td>2022020109</td>\n",
       "      <td>KAPHIA</td>\n",
       "      <td>Jenno</td>\n",
       "      <td>29</td>\n",
       "      <td>A</td>\n",
       "    </tr>\n",
       "  </tbody>\n",
       "</table>\n",
       "</div>"
      ],
      "text/plain": [
       "    Matricule         Nom    Prenom  Age GPA\n",
       "0  2022020100    SAMPATWA      Diev   25   A\n",
       "1  2022020101     KATUMBA   Manasse   22   B\n",
       "2  2022020102  KIMENYEMBO    Ketsia   12   A\n",
       "3  2022020103      KALOKO    Charly   26   C\n",
       "4  2022020104     KALOMBO    Justin   19   B\n",
       "5  2022020105       OSOKO       Ken   21   A\n",
       "6  2022020106      KALUME      Yves   36   C\n",
       "7  2022020107        UMBA  Jonathan   15   B\n",
       "8  2022020108    JAPONAIS       Joe   23   C\n",
       "9  2022020109      KAPHIA     Jenno   29   A"
      ]
     },
     "execution_count": 30,
     "metadata": {},
     "output_type": "execute_result"
    }
   ],
   "source": [
    "donnees_etudiants"
   ]
  },
  {
   "cell_type": "code",
   "execution_count": 31,
   "id": "acc3694e-fa92-4c2e-9629-0ed8e0f06d2f",
   "metadata": {
    "tags": []
   },
   "outputs": [
    {
     "data": {
      "text/html": [
       "<div>\n",
       "<style scoped>\n",
       "    .dataframe tbody tr th:only-of-type {\n",
       "        vertical-align: middle;\n",
       "    }\n",
       "\n",
       "    .dataframe tbody tr th {\n",
       "        vertical-align: top;\n",
       "    }\n",
       "\n",
       "    .dataframe thead th {\n",
       "        text-align: right;\n",
       "    }\n",
       "</style>\n",
       "<table border=\"1\" class=\"dataframe\">\n",
       "  <thead>\n",
       "    <tr style=\"text-align: right;\">\n",
       "      <th></th>\n",
       "      <th>Matricule</th>\n",
       "      <th>Nom</th>\n",
       "      <th>Prenom</th>\n",
       "      <th>Age</th>\n",
       "      <th>GPA</th>\n",
       "    </tr>\n",
       "  </thead>\n",
       "  <tbody>\n",
       "    <tr>\n",
       "      <th>0</th>\n",
       "      <td>2022020100</td>\n",
       "      <td>SAMPATWA</td>\n",
       "      <td>Diev</td>\n",
       "      <td>25</td>\n",
       "      <td>A</td>\n",
       "    </tr>\n",
       "    <tr>\n",
       "      <th>1</th>\n",
       "      <td>2022020101</td>\n",
       "      <td>KATUMBA</td>\n",
       "      <td>Manasse</td>\n",
       "      <td>22</td>\n",
       "      <td>B</td>\n",
       "    </tr>\n",
       "    <tr>\n",
       "      <th>2</th>\n",
       "      <td>2022020102</td>\n",
       "      <td>KIMENYEMBO</td>\n",
       "      <td>Ketsia</td>\n",
       "      <td>12</td>\n",
       "      <td>A</td>\n",
       "    </tr>\n",
       "    <tr>\n",
       "      <th>3</th>\n",
       "      <td>2022020103</td>\n",
       "      <td>KALOKO</td>\n",
       "      <td>Charly</td>\n",
       "      <td>26</td>\n",
       "      <td>C</td>\n",
       "    </tr>\n",
       "    <tr>\n",
       "      <th>4</th>\n",
       "      <td>2022020104</td>\n",
       "      <td>KALOMBO</td>\n",
       "      <td>Justin</td>\n",
       "      <td>19</td>\n",
       "      <td>B</td>\n",
       "    </tr>\n",
       "  </tbody>\n",
       "</table>\n",
       "</div>"
      ],
      "text/plain": [
       "    Matricule         Nom   Prenom  Age GPA\n",
       "0  2022020100    SAMPATWA     Diev   25   A\n",
       "1  2022020101     KATUMBA  Manasse   22   B\n",
       "2  2022020102  KIMENYEMBO   Ketsia   12   A\n",
       "3  2022020103      KALOKO   Charly   26   C\n",
       "4  2022020104     KALOMBO   Justin   19   B"
      ]
     },
     "execution_count": 31,
     "metadata": {},
     "output_type": "execute_result"
    }
   ],
   "source": [
    "donnees_etudiants.head()"
   ]
  },
  {
   "cell_type": "code",
   "execution_count": 32,
   "id": "adcf1994-8045-480c-95b8-582a9aa8a7ca",
   "metadata": {
    "tags": []
   },
   "outputs": [
    {
     "data": {
      "text/html": [
       "<div>\n",
       "<style scoped>\n",
       "    .dataframe tbody tr th:only-of-type {\n",
       "        vertical-align: middle;\n",
       "    }\n",
       "\n",
       "    .dataframe tbody tr th {\n",
       "        vertical-align: top;\n",
       "    }\n",
       "\n",
       "    .dataframe thead th {\n",
       "        text-align: right;\n",
       "    }\n",
       "</style>\n",
       "<table border=\"1\" class=\"dataframe\">\n",
       "  <thead>\n",
       "    <tr style=\"text-align: right;\">\n",
       "      <th></th>\n",
       "      <th>Matricule</th>\n",
       "      <th>Nom</th>\n",
       "      <th>Prenom</th>\n",
       "      <th>Age</th>\n",
       "      <th>GPA</th>\n",
       "    </tr>\n",
       "  </thead>\n",
       "  <tbody>\n",
       "    <tr>\n",
       "      <th>5</th>\n",
       "      <td>2022020105</td>\n",
       "      <td>OSOKO</td>\n",
       "      <td>Ken</td>\n",
       "      <td>21</td>\n",
       "      <td>A</td>\n",
       "    </tr>\n",
       "    <tr>\n",
       "      <th>6</th>\n",
       "      <td>2022020106</td>\n",
       "      <td>KALUME</td>\n",
       "      <td>Yves</td>\n",
       "      <td>36</td>\n",
       "      <td>C</td>\n",
       "    </tr>\n",
       "    <tr>\n",
       "      <th>7</th>\n",
       "      <td>2022020107</td>\n",
       "      <td>UMBA</td>\n",
       "      <td>Jonathan</td>\n",
       "      <td>15</td>\n",
       "      <td>B</td>\n",
       "    </tr>\n",
       "    <tr>\n",
       "      <th>8</th>\n",
       "      <td>2022020108</td>\n",
       "      <td>JAPONAIS</td>\n",
       "      <td>Joe</td>\n",
       "      <td>23</td>\n",
       "      <td>C</td>\n",
       "    </tr>\n",
       "    <tr>\n",
       "      <th>9</th>\n",
       "      <td>2022020109</td>\n",
       "      <td>KAPHIA</td>\n",
       "      <td>Jenno</td>\n",
       "      <td>29</td>\n",
       "      <td>A</td>\n",
       "    </tr>\n",
       "  </tbody>\n",
       "</table>\n",
       "</div>"
      ],
      "text/plain": [
       "    Matricule       Nom    Prenom  Age GPA\n",
       "5  2022020105     OSOKO       Ken   21   A\n",
       "6  2022020106    KALUME      Yves   36   C\n",
       "7  2022020107      UMBA  Jonathan   15   B\n",
       "8  2022020108  JAPONAIS       Joe   23   C\n",
       "9  2022020109    KAPHIA     Jenno   29   A"
      ]
     },
     "execution_count": 32,
     "metadata": {},
     "output_type": "execute_result"
    }
   ],
   "source": [
    "donnees_etudiants.tail()"
   ]
  },
  {
   "cell_type": "code",
   "execution_count": 33,
   "id": "baa98aa9-4b37-4fa1-ba8a-352be432caee",
   "metadata": {
    "tags": []
   },
   "outputs": [
    {
     "data": {
      "text/plain": [
       "0    2022020100\n",
       "1    2022020101\n",
       "2    2022020102\n",
       "3    2022020103\n",
       "4    2022020104\n",
       "5    2022020105\n",
       "6    2022020106\n",
       "7    2022020107\n",
       "8    2022020108\n",
       "9    2022020109\n",
       "Name: Matricule, dtype: object"
      ]
     },
     "execution_count": 33,
     "metadata": {},
     "output_type": "execute_result"
    }
   ],
   "source": [
    "donnees_etudiants['Matricule']"
   ]
  },
  {
   "cell_type": "code",
   "execution_count": 34,
   "id": "a18c1bad-bbfe-4926-98da-597cd37d01bf",
   "metadata": {
    "tags": []
   },
   "outputs": [
    {
     "data": {
      "text/html": [
       "<div>\n",
       "<style scoped>\n",
       "    .dataframe tbody tr th:only-of-type {\n",
       "        vertical-align: middle;\n",
       "    }\n",
       "\n",
       "    .dataframe tbody tr th {\n",
       "        vertical-align: top;\n",
       "    }\n",
       "\n",
       "    .dataframe thead th {\n",
       "        text-align: right;\n",
       "    }\n",
       "</style>\n",
       "<table border=\"1\" class=\"dataframe\">\n",
       "  <thead>\n",
       "    <tr style=\"text-align: right;\">\n",
       "      <th></th>\n",
       "      <th>Matricule</th>\n",
       "      <th>Nom</th>\n",
       "    </tr>\n",
       "  </thead>\n",
       "  <tbody>\n",
       "    <tr>\n",
       "      <th>0</th>\n",
       "      <td>2022020100</td>\n",
       "      <td>SAMPATWA</td>\n",
       "    </tr>\n",
       "    <tr>\n",
       "      <th>1</th>\n",
       "      <td>2022020101</td>\n",
       "      <td>KATUMBA</td>\n",
       "    </tr>\n",
       "    <tr>\n",
       "      <th>2</th>\n",
       "      <td>2022020102</td>\n",
       "      <td>KIMENYEMBO</td>\n",
       "    </tr>\n",
       "    <tr>\n",
       "      <th>3</th>\n",
       "      <td>2022020103</td>\n",
       "      <td>KALOKO</td>\n",
       "    </tr>\n",
       "    <tr>\n",
       "      <th>4</th>\n",
       "      <td>2022020104</td>\n",
       "      <td>KALOMBO</td>\n",
       "    </tr>\n",
       "    <tr>\n",
       "      <th>5</th>\n",
       "      <td>2022020105</td>\n",
       "      <td>OSOKO</td>\n",
       "    </tr>\n",
       "    <tr>\n",
       "      <th>6</th>\n",
       "      <td>2022020106</td>\n",
       "      <td>KALUME</td>\n",
       "    </tr>\n",
       "    <tr>\n",
       "      <th>7</th>\n",
       "      <td>2022020107</td>\n",
       "      <td>UMBA</td>\n",
       "    </tr>\n",
       "    <tr>\n",
       "      <th>8</th>\n",
       "      <td>2022020108</td>\n",
       "      <td>JAPONAIS</td>\n",
       "    </tr>\n",
       "    <tr>\n",
       "      <th>9</th>\n",
       "      <td>2022020109</td>\n",
       "      <td>KAPHIA</td>\n",
       "    </tr>\n",
       "  </tbody>\n",
       "</table>\n",
       "</div>"
      ],
      "text/plain": [
       "    Matricule         Nom\n",
       "0  2022020100    SAMPATWA\n",
       "1  2022020101     KATUMBA\n",
       "2  2022020102  KIMENYEMBO\n",
       "3  2022020103      KALOKO\n",
       "4  2022020104     KALOMBO\n",
       "5  2022020105       OSOKO\n",
       "6  2022020106      KALUME\n",
       "7  2022020107        UMBA\n",
       "8  2022020108    JAPONAIS\n",
       "9  2022020109      KAPHIA"
      ]
     },
     "execution_count": 34,
     "metadata": {},
     "output_type": "execute_result"
    }
   ],
   "source": [
    "donnees_etudiants[['Matricule','Nom']]"
   ]
  },
  {
   "cell_type": "code",
   "execution_count": 35,
   "id": "a8ebf8f1-9299-416e-8f92-dde4cc069d55",
   "metadata": {
    "tags": []
   },
   "outputs": [
    {
     "data": {
      "text/html": [
       "<div>\n",
       "<style scoped>\n",
       "    .dataframe tbody tr th:only-of-type {\n",
       "        vertical-align: middle;\n",
       "    }\n",
       "\n",
       "    .dataframe tbody tr th {\n",
       "        vertical-align: top;\n",
       "    }\n",
       "\n",
       "    .dataframe thead th {\n",
       "        text-align: right;\n",
       "    }\n",
       "</style>\n",
       "<table border=\"1\" class=\"dataframe\">\n",
       "  <thead>\n",
       "    <tr style=\"text-align: right;\">\n",
       "      <th></th>\n",
       "      <th>Matricule</th>\n",
       "      <th>Nom</th>\n",
       "      <th>Prenom</th>\n",
       "      <th>Age</th>\n",
       "      <th>GPA</th>\n",
       "    </tr>\n",
       "  </thead>\n",
       "  <tbody>\n",
       "    <tr>\n",
       "      <th>0</th>\n",
       "      <td>2022020100</td>\n",
       "      <td>SAMPATWA</td>\n",
       "      <td>Diev</td>\n",
       "      <td>25</td>\n",
       "      <td>A</td>\n",
       "    </tr>\n",
       "    <tr>\n",
       "      <th>1</th>\n",
       "      <td>2022020101</td>\n",
       "      <td>KATUMBA</td>\n",
       "      <td>Manasse</td>\n",
       "      <td>22</td>\n",
       "      <td>B</td>\n",
       "    </tr>\n",
       "    <tr>\n",
       "      <th>2</th>\n",
       "      <td>2022020102</td>\n",
       "      <td>KIMENYEMBO</td>\n",
       "      <td>Ketsia</td>\n",
       "      <td>12</td>\n",
       "      <td>A</td>\n",
       "    </tr>\n",
       "    <tr>\n",
       "      <th>3</th>\n",
       "      <td>2022020103</td>\n",
       "      <td>KALOKO</td>\n",
       "      <td>Charly</td>\n",
       "      <td>26</td>\n",
       "      <td>C</td>\n",
       "    </tr>\n",
       "    <tr>\n",
       "      <th>4</th>\n",
       "      <td>2022020104</td>\n",
       "      <td>KALOMBO</td>\n",
       "      <td>Justin</td>\n",
       "      <td>19</td>\n",
       "      <td>B</td>\n",
       "    </tr>\n",
       "    <tr>\n",
       "      <th>5</th>\n",
       "      <td>2022020105</td>\n",
       "      <td>OSOKO</td>\n",
       "      <td>Ken</td>\n",
       "      <td>21</td>\n",
       "      <td>A</td>\n",
       "    </tr>\n",
       "    <tr>\n",
       "      <th>6</th>\n",
       "      <td>2022020106</td>\n",
       "      <td>KALUME</td>\n",
       "      <td>Yves</td>\n",
       "      <td>36</td>\n",
       "      <td>C</td>\n",
       "    </tr>\n",
       "    <tr>\n",
       "      <th>7</th>\n",
       "      <td>2022020107</td>\n",
       "      <td>UMBA</td>\n",
       "      <td>Jonathan</td>\n",
       "      <td>15</td>\n",
       "      <td>B</td>\n",
       "    </tr>\n",
       "    <tr>\n",
       "      <th>8</th>\n",
       "      <td>2022020108</td>\n",
       "      <td>JAPONAIS</td>\n",
       "      <td>Joe</td>\n",
       "      <td>23</td>\n",
       "      <td>C</td>\n",
       "    </tr>\n",
       "    <tr>\n",
       "      <th>9</th>\n",
       "      <td>2022020109</td>\n",
       "      <td>KAPHIA</td>\n",
       "      <td>Jenno</td>\n",
       "      <td>29</td>\n",
       "      <td>A</td>\n",
       "    </tr>\n",
       "  </tbody>\n",
       "</table>\n",
       "</div>"
      ],
      "text/plain": [
       "    Matricule         Nom    Prenom  Age GPA\n",
       "0  2022020100    SAMPATWA      Diev   25   A\n",
       "1  2022020101     KATUMBA   Manasse   22   B\n",
       "2  2022020102  KIMENYEMBO    Ketsia   12   A\n",
       "3  2022020103      KALOKO    Charly   26   C\n",
       "4  2022020104     KALOMBO    Justin   19   B\n",
       "5  2022020105       OSOKO       Ken   21   A\n",
       "6  2022020106      KALUME      Yves   36   C\n",
       "7  2022020107        UMBA  Jonathan   15   B\n",
       "8  2022020108    JAPONAIS       Joe   23   C\n",
       "9  2022020109      KAPHIA     Jenno   29   A"
      ]
     },
     "execution_count": 35,
     "metadata": {},
     "output_type": "execute_result"
    }
   ],
   "source": [
    "donnees_etudiants.iloc[ : , :]"
   ]
  },
  {
   "cell_type": "code",
   "execution_count": 36,
   "id": "76aa2411-671a-43b6-bb0d-e20e83f75292",
   "metadata": {
    "tags": []
   },
   "outputs": [
    {
     "data": {
      "text/html": [
       "<div>\n",
       "<style scoped>\n",
       "    .dataframe tbody tr th:only-of-type {\n",
       "        vertical-align: middle;\n",
       "    }\n",
       "\n",
       "    .dataframe tbody tr th {\n",
       "        vertical-align: top;\n",
       "    }\n",
       "\n",
       "    .dataframe thead th {\n",
       "        text-align: right;\n",
       "    }\n",
       "</style>\n",
       "<table border=\"1\" class=\"dataframe\">\n",
       "  <thead>\n",
       "    <tr style=\"text-align: right;\">\n",
       "      <th></th>\n",
       "      <th>Matricule</th>\n",
       "      <th>Nom</th>\n",
       "      <th>Prenom</th>\n",
       "      <th>Age</th>\n",
       "      <th>GPA</th>\n",
       "    </tr>\n",
       "  </thead>\n",
       "  <tbody>\n",
       "    <tr>\n",
       "      <th>3</th>\n",
       "      <td>2022020103</td>\n",
       "      <td>KALOKO</td>\n",
       "      <td>Charly</td>\n",
       "      <td>26</td>\n",
       "      <td>C</td>\n",
       "    </tr>\n",
       "  </tbody>\n",
       "</table>\n",
       "</div>"
      ],
      "text/plain": [
       "    Matricule     Nom  Prenom  Age GPA\n",
       "3  2022020103  KALOKO  Charly   26   C"
      ]
     },
     "execution_count": 36,
     "metadata": {},
     "output_type": "execute_result"
    }
   ],
   "source": [
    "# Afficher seulement les infos de KALOKO\n",
    "donnees_etudiants.iloc[ 3:4 , :]"
   ]
  },
  {
   "cell_type": "code",
   "execution_count": 37,
   "id": "3a0b3048-08d1-4cf2-b63f-86f9e7c34b00",
   "metadata": {
    "tags": []
   },
   "outputs": [
    {
     "data": {
      "text/html": [
       "<div>\n",
       "<style scoped>\n",
       "    .dataframe tbody tr th:only-of-type {\n",
       "        vertical-align: middle;\n",
       "    }\n",
       "\n",
       "    .dataframe tbody tr th {\n",
       "        vertical-align: top;\n",
       "    }\n",
       "\n",
       "    .dataframe thead th {\n",
       "        text-align: right;\n",
       "    }\n",
       "</style>\n",
       "<table border=\"1\" class=\"dataframe\">\n",
       "  <thead>\n",
       "    <tr style=\"text-align: right;\">\n",
       "      <th></th>\n",
       "      <th>Age</th>\n",
       "    </tr>\n",
       "  </thead>\n",
       "  <tbody>\n",
       "    <tr>\n",
       "      <th>0</th>\n",
       "      <td>25</td>\n",
       "    </tr>\n",
       "    <tr>\n",
       "      <th>1</th>\n",
       "      <td>22</td>\n",
       "    </tr>\n",
       "    <tr>\n",
       "      <th>2</th>\n",
       "      <td>12</td>\n",
       "    </tr>\n",
       "    <tr>\n",
       "      <th>3</th>\n",
       "      <td>26</td>\n",
       "    </tr>\n",
       "    <tr>\n",
       "      <th>4</th>\n",
       "      <td>19</td>\n",
       "    </tr>\n",
       "    <tr>\n",
       "      <th>5</th>\n",
       "      <td>21</td>\n",
       "    </tr>\n",
       "    <tr>\n",
       "      <th>6</th>\n",
       "      <td>36</td>\n",
       "    </tr>\n",
       "    <tr>\n",
       "      <th>7</th>\n",
       "      <td>15</td>\n",
       "    </tr>\n",
       "    <tr>\n",
       "      <th>8</th>\n",
       "      <td>23</td>\n",
       "    </tr>\n",
       "    <tr>\n",
       "      <th>9</th>\n",
       "      <td>29</td>\n",
       "    </tr>\n",
       "  </tbody>\n",
       "</table>\n",
       "</div>"
      ],
      "text/plain": [
       "   Age\n",
       "0   25\n",
       "1   22\n",
       "2   12\n",
       "3   26\n",
       "4   19\n",
       "5   21\n",
       "6   36\n",
       "7   15\n",
       "8   23\n",
       "9   29"
      ]
     },
     "execution_count": 37,
     "metadata": {},
     "output_type": "execute_result"
    }
   ],
   "source": [
    "# Afficher seulement la colonne Age\n",
    "donnees_etudiants.iloc[ : , 3:4]"
   ]
  },
  {
   "cell_type": "code",
   "execution_count": 38,
   "id": "7bb1bff3-909d-41a6-a728-0f747c5fdf10",
   "metadata": {
    "tags": []
   },
   "outputs": [
    {
     "data": {
      "text/html": [
       "<div>\n",
       "<style scoped>\n",
       "    .dataframe tbody tr th:only-of-type {\n",
       "        vertical-align: middle;\n",
       "    }\n",
       "\n",
       "    .dataframe tbody tr th {\n",
       "        vertical-align: top;\n",
       "    }\n",
       "\n",
       "    .dataframe thead th {\n",
       "        text-align: right;\n",
       "    }\n",
       "</style>\n",
       "<table border=\"1\" class=\"dataframe\">\n",
       "  <thead>\n",
       "    <tr style=\"text-align: right;\">\n",
       "      <th></th>\n",
       "      <th>Nom</th>\n",
       "    </tr>\n",
       "  </thead>\n",
       "  <tbody>\n",
       "    <tr>\n",
       "      <th>1</th>\n",
       "      <td>KATUMBA</td>\n",
       "    </tr>\n",
       "  </tbody>\n",
       "</table>\n",
       "</div>"
      ],
      "text/plain": [
       "       Nom\n",
       "1  KATUMBA"
      ]
     },
     "execution_count": 38,
     "metadata": {},
     "output_type": "execute_result"
    }
   ],
   "source": [
    "# Afficher seulement le postnom KATUMBA\n",
    "donnees_etudiants.iloc[ 1:2 , 1:2]"
   ]
  },
  {
   "cell_type": "code",
   "execution_count": 39,
   "id": "78e89b55-2655-473e-af4f-fb4dc09d2907",
   "metadata": {
    "tags": []
   },
   "outputs": [],
   "source": [
    "# Afficher les colonnes\n",
    "donnees_etudiants['Genre'] = ['M','M','F','M','M','M','M','M','M','M']\n",
    "donnees_etudiants['Pourcentage'] = [50,65,78,74,69,63,85,91,56,79]"
   ]
  },
  {
   "cell_type": "code",
   "execution_count": 40,
   "id": "652c72ca-3923-421d-adcb-f283906e7ab4",
   "metadata": {
    "tags": []
   },
   "outputs": [
    {
     "data": {
      "text/html": [
       "<div>\n",
       "<style scoped>\n",
       "    .dataframe tbody tr th:only-of-type {\n",
       "        vertical-align: middle;\n",
       "    }\n",
       "\n",
       "    .dataframe tbody tr th {\n",
       "        vertical-align: top;\n",
       "    }\n",
       "\n",
       "    .dataframe thead th {\n",
       "        text-align: right;\n",
       "    }\n",
       "</style>\n",
       "<table border=\"1\" class=\"dataframe\">\n",
       "  <thead>\n",
       "    <tr style=\"text-align: right;\">\n",
       "      <th></th>\n",
       "      <th>Matricule</th>\n",
       "      <th>Nom</th>\n",
       "      <th>Prenom</th>\n",
       "      <th>Age</th>\n",
       "      <th>GPA</th>\n",
       "      <th>Genre</th>\n",
       "      <th>Pourcentage</th>\n",
       "    </tr>\n",
       "  </thead>\n",
       "  <tbody>\n",
       "    <tr>\n",
       "      <th>0</th>\n",
       "      <td>2022020100</td>\n",
       "      <td>SAMPATWA</td>\n",
       "      <td>Diev</td>\n",
       "      <td>25</td>\n",
       "      <td>A</td>\n",
       "      <td>M</td>\n",
       "      <td>50</td>\n",
       "    </tr>\n",
       "    <tr>\n",
       "      <th>1</th>\n",
       "      <td>2022020101</td>\n",
       "      <td>KATUMBA</td>\n",
       "      <td>Manasse</td>\n",
       "      <td>22</td>\n",
       "      <td>B</td>\n",
       "      <td>M</td>\n",
       "      <td>65</td>\n",
       "    </tr>\n",
       "    <tr>\n",
       "      <th>2</th>\n",
       "      <td>2022020102</td>\n",
       "      <td>KIMENYEMBO</td>\n",
       "      <td>Ketsia</td>\n",
       "      <td>12</td>\n",
       "      <td>A</td>\n",
       "      <td>F</td>\n",
       "      <td>78</td>\n",
       "    </tr>\n",
       "    <tr>\n",
       "      <th>3</th>\n",
       "      <td>2022020103</td>\n",
       "      <td>KALOKO</td>\n",
       "      <td>Charly</td>\n",
       "      <td>26</td>\n",
       "      <td>C</td>\n",
       "      <td>M</td>\n",
       "      <td>74</td>\n",
       "    </tr>\n",
       "    <tr>\n",
       "      <th>4</th>\n",
       "      <td>2022020104</td>\n",
       "      <td>KALOMBO</td>\n",
       "      <td>Justin</td>\n",
       "      <td>19</td>\n",
       "      <td>B</td>\n",
       "      <td>M</td>\n",
       "      <td>69</td>\n",
       "    </tr>\n",
       "    <tr>\n",
       "      <th>5</th>\n",
       "      <td>2022020105</td>\n",
       "      <td>OSOKO</td>\n",
       "      <td>Ken</td>\n",
       "      <td>21</td>\n",
       "      <td>A</td>\n",
       "      <td>M</td>\n",
       "      <td>63</td>\n",
       "    </tr>\n",
       "    <tr>\n",
       "      <th>6</th>\n",
       "      <td>2022020106</td>\n",
       "      <td>KALUME</td>\n",
       "      <td>Yves</td>\n",
       "      <td>36</td>\n",
       "      <td>C</td>\n",
       "      <td>M</td>\n",
       "      <td>85</td>\n",
       "    </tr>\n",
       "    <tr>\n",
       "      <th>7</th>\n",
       "      <td>2022020107</td>\n",
       "      <td>UMBA</td>\n",
       "      <td>Jonathan</td>\n",
       "      <td>15</td>\n",
       "      <td>B</td>\n",
       "      <td>M</td>\n",
       "      <td>91</td>\n",
       "    </tr>\n",
       "    <tr>\n",
       "      <th>8</th>\n",
       "      <td>2022020108</td>\n",
       "      <td>JAPONAIS</td>\n",
       "      <td>Joe</td>\n",
       "      <td>23</td>\n",
       "      <td>C</td>\n",
       "      <td>M</td>\n",
       "      <td>56</td>\n",
       "    </tr>\n",
       "    <tr>\n",
       "      <th>9</th>\n",
       "      <td>2022020109</td>\n",
       "      <td>KAPHIA</td>\n",
       "      <td>Jenno</td>\n",
       "      <td>29</td>\n",
       "      <td>A</td>\n",
       "      <td>M</td>\n",
       "      <td>79</td>\n",
       "    </tr>\n",
       "  </tbody>\n",
       "</table>\n",
       "</div>"
      ],
      "text/plain": [
       "    Matricule         Nom    Prenom  Age GPA Genre  Pourcentage\n",
       "0  2022020100    SAMPATWA      Diev   25   A     M           50\n",
       "1  2022020101     KATUMBA   Manasse   22   B     M           65\n",
       "2  2022020102  KIMENYEMBO    Ketsia   12   A     F           78\n",
       "3  2022020103      KALOKO    Charly   26   C     M           74\n",
       "4  2022020104     KALOMBO    Justin   19   B     M           69\n",
       "5  2022020105       OSOKO       Ken   21   A     M           63\n",
       "6  2022020106      KALUME      Yves   36   C     M           85\n",
       "7  2022020107        UMBA  Jonathan   15   B     M           91\n",
       "8  2022020108    JAPONAIS       Joe   23   C     M           56\n",
       "9  2022020109      KAPHIA     Jenno   29   A     M           79"
      ]
     },
     "execution_count": 40,
     "metadata": {},
     "output_type": "execute_result"
    }
   ],
   "source": [
    "donnees_etudiants"
   ]
  },
  {
   "cell_type": "code",
   "execution_count": 41,
   "id": "2f899cf1-7cbe-4710-b463-579227cbf721",
   "metadata": {
    "tags": []
   },
   "outputs": [
    {
     "data": {
      "text/html": [
       "<div>\n",
       "<style scoped>\n",
       "    .dataframe tbody tr th:only-of-type {\n",
       "        vertical-align: middle;\n",
       "    }\n",
       "\n",
       "    .dataframe tbody tr th {\n",
       "        vertical-align: top;\n",
       "    }\n",
       "\n",
       "    .dataframe thead th {\n",
       "        text-align: right;\n",
       "    }\n",
       "</style>\n",
       "<table border=\"1\" class=\"dataframe\">\n",
       "  <thead>\n",
       "    <tr style=\"text-align: right;\">\n",
       "      <th></th>\n",
       "      <th>Matricule</th>\n",
       "      <th>Nom</th>\n",
       "      <th>Prenom</th>\n",
       "      <th>Age</th>\n",
       "      <th>Genre</th>\n",
       "      <th>Pourcentage</th>\n",
       "    </tr>\n",
       "  </thead>\n",
       "  <tbody>\n",
       "    <tr>\n",
       "      <th>0</th>\n",
       "      <td>2022020100</td>\n",
       "      <td>SAMPATWA</td>\n",
       "      <td>Diev</td>\n",
       "      <td>25</td>\n",
       "      <td>M</td>\n",
       "      <td>50</td>\n",
       "    </tr>\n",
       "    <tr>\n",
       "      <th>1</th>\n",
       "      <td>2022020101</td>\n",
       "      <td>KATUMBA</td>\n",
       "      <td>Manasse</td>\n",
       "      <td>22</td>\n",
       "      <td>M</td>\n",
       "      <td>65</td>\n",
       "    </tr>\n",
       "    <tr>\n",
       "      <th>2</th>\n",
       "      <td>2022020102</td>\n",
       "      <td>KIMENYEMBO</td>\n",
       "      <td>Ketsia</td>\n",
       "      <td>12</td>\n",
       "      <td>F</td>\n",
       "      <td>78</td>\n",
       "    </tr>\n",
       "    <tr>\n",
       "      <th>3</th>\n",
       "      <td>2022020103</td>\n",
       "      <td>KALOKO</td>\n",
       "      <td>Charly</td>\n",
       "      <td>26</td>\n",
       "      <td>M</td>\n",
       "      <td>74</td>\n",
       "    </tr>\n",
       "    <tr>\n",
       "      <th>4</th>\n",
       "      <td>2022020104</td>\n",
       "      <td>KALOMBO</td>\n",
       "      <td>Justin</td>\n",
       "      <td>19</td>\n",
       "      <td>M</td>\n",
       "      <td>69</td>\n",
       "    </tr>\n",
       "    <tr>\n",
       "      <th>5</th>\n",
       "      <td>2022020105</td>\n",
       "      <td>OSOKO</td>\n",
       "      <td>Ken</td>\n",
       "      <td>21</td>\n",
       "      <td>M</td>\n",
       "      <td>63</td>\n",
       "    </tr>\n",
       "    <tr>\n",
       "      <th>6</th>\n",
       "      <td>2022020106</td>\n",
       "      <td>KALUME</td>\n",
       "      <td>Yves</td>\n",
       "      <td>36</td>\n",
       "      <td>M</td>\n",
       "      <td>85</td>\n",
       "    </tr>\n",
       "    <tr>\n",
       "      <th>7</th>\n",
       "      <td>2022020107</td>\n",
       "      <td>UMBA</td>\n",
       "      <td>Jonathan</td>\n",
       "      <td>15</td>\n",
       "      <td>M</td>\n",
       "      <td>91</td>\n",
       "    </tr>\n",
       "    <tr>\n",
       "      <th>8</th>\n",
       "      <td>2022020108</td>\n",
       "      <td>JAPONAIS</td>\n",
       "      <td>Joe</td>\n",
       "      <td>23</td>\n",
       "      <td>M</td>\n",
       "      <td>56</td>\n",
       "    </tr>\n",
       "    <tr>\n",
       "      <th>9</th>\n",
       "      <td>2022020109</td>\n",
       "      <td>KAPHIA</td>\n",
       "      <td>Jenno</td>\n",
       "      <td>29</td>\n",
       "      <td>M</td>\n",
       "      <td>79</td>\n",
       "    </tr>\n",
       "  </tbody>\n",
       "</table>\n",
       "</div>"
      ],
      "text/plain": [
       "    Matricule         Nom    Prenom  Age Genre  Pourcentage\n",
       "0  2022020100    SAMPATWA      Diev   25     M           50\n",
       "1  2022020101     KATUMBA   Manasse   22     M           65\n",
       "2  2022020102  KIMENYEMBO    Ketsia   12     F           78\n",
       "3  2022020103      KALOKO    Charly   26     M           74\n",
       "4  2022020104     KALOMBO    Justin   19     M           69\n",
       "5  2022020105       OSOKO       Ken   21     M           63\n",
       "6  2022020106      KALUME      Yves   36     M           85\n",
       "7  2022020107        UMBA  Jonathan   15     M           91\n",
       "8  2022020108    JAPONAIS       Joe   23     M           56\n",
       "9  2022020109      KAPHIA     Jenno   29     M           79"
      ]
     },
     "execution_count": 41,
     "metadata": {},
     "output_type": "execute_result"
    }
   ],
   "source": [
    "# Supprimer la colonne GPA\n",
    "donnees_etudiants.drop(columns='GPA',inplace=True, axis=1)\n",
    "donnees_etudiants"
   ]
  },
  {
   "cell_type": "code",
   "execution_count": 42,
   "id": "6289fafa-d249-4c85-9294-59f054409db3",
   "metadata": {
    "tags": []
   },
   "outputs": [],
   "source": [
    "# Convertir la colonne Genre en M = 1 et F = 0\n",
    "# Mapping de la colonne Genre\n",
    "\n",
    "Mapping_Genre = {\n",
    "    'M': 1,\n",
    "    'F': 0\n",
    "}\n",
    "\n",
    "donnees_etudiants['Genre'] = donnees_etudiants['Genre'].map(Mapping_Genre)\n",
    "#2ieme methode\n",
    "donnees_etudiants['Genre'] = np.where(donnees_etudiants['Genre'] == 'M',1,0)"
   ]
  },
  {
   "cell_type": "code",
   "execution_count": 43,
   "id": "e543300a-88aa-4bb5-90c7-8f61128fa4d8",
   "metadata": {
    "tags": []
   },
   "outputs": [
    {
     "data": {
      "text/html": [
       "<div>\n",
       "<style scoped>\n",
       "    .dataframe tbody tr th:only-of-type {\n",
       "        vertical-align: middle;\n",
       "    }\n",
       "\n",
       "    .dataframe tbody tr th {\n",
       "        vertical-align: top;\n",
       "    }\n",
       "\n",
       "    .dataframe thead th {\n",
       "        text-align: right;\n",
       "    }\n",
       "</style>\n",
       "<table border=\"1\" class=\"dataframe\">\n",
       "  <thead>\n",
       "    <tr style=\"text-align: right;\">\n",
       "      <th></th>\n",
       "      <th>Matricule</th>\n",
       "      <th>Nom</th>\n",
       "      <th>Prenom</th>\n",
       "      <th>Age</th>\n",
       "      <th>Genre</th>\n",
       "      <th>Pourcentage</th>\n",
       "    </tr>\n",
       "  </thead>\n",
       "  <tbody>\n",
       "    <tr>\n",
       "      <th>0</th>\n",
       "      <td>2022020100</td>\n",
       "      <td>SAMPATWA</td>\n",
       "      <td>Diev</td>\n",
       "      <td>25</td>\n",
       "      <td>0</td>\n",
       "      <td>50</td>\n",
       "    </tr>\n",
       "    <tr>\n",
       "      <th>1</th>\n",
       "      <td>2022020101</td>\n",
       "      <td>KATUMBA</td>\n",
       "      <td>Manasse</td>\n",
       "      <td>22</td>\n",
       "      <td>0</td>\n",
       "      <td>65</td>\n",
       "    </tr>\n",
       "    <tr>\n",
       "      <th>2</th>\n",
       "      <td>2022020102</td>\n",
       "      <td>KIMENYEMBO</td>\n",
       "      <td>Ketsia</td>\n",
       "      <td>12</td>\n",
       "      <td>0</td>\n",
       "      <td>78</td>\n",
       "    </tr>\n",
       "    <tr>\n",
       "      <th>3</th>\n",
       "      <td>2022020103</td>\n",
       "      <td>KALOKO</td>\n",
       "      <td>Charly</td>\n",
       "      <td>26</td>\n",
       "      <td>0</td>\n",
       "      <td>74</td>\n",
       "    </tr>\n",
       "    <tr>\n",
       "      <th>4</th>\n",
       "      <td>2022020104</td>\n",
       "      <td>KALOMBO</td>\n",
       "      <td>Justin</td>\n",
       "      <td>19</td>\n",
       "      <td>0</td>\n",
       "      <td>69</td>\n",
       "    </tr>\n",
       "    <tr>\n",
       "      <th>5</th>\n",
       "      <td>2022020105</td>\n",
       "      <td>OSOKO</td>\n",
       "      <td>Ken</td>\n",
       "      <td>21</td>\n",
       "      <td>0</td>\n",
       "      <td>63</td>\n",
       "    </tr>\n",
       "    <tr>\n",
       "      <th>6</th>\n",
       "      <td>2022020106</td>\n",
       "      <td>KALUME</td>\n",
       "      <td>Yves</td>\n",
       "      <td>36</td>\n",
       "      <td>0</td>\n",
       "      <td>85</td>\n",
       "    </tr>\n",
       "    <tr>\n",
       "      <th>7</th>\n",
       "      <td>2022020107</td>\n",
       "      <td>UMBA</td>\n",
       "      <td>Jonathan</td>\n",
       "      <td>15</td>\n",
       "      <td>0</td>\n",
       "      <td>91</td>\n",
       "    </tr>\n",
       "    <tr>\n",
       "      <th>8</th>\n",
       "      <td>2022020108</td>\n",
       "      <td>JAPONAIS</td>\n",
       "      <td>Joe</td>\n",
       "      <td>23</td>\n",
       "      <td>0</td>\n",
       "      <td>56</td>\n",
       "    </tr>\n",
       "    <tr>\n",
       "      <th>9</th>\n",
       "      <td>2022020109</td>\n",
       "      <td>KAPHIA</td>\n",
       "      <td>Jenno</td>\n",
       "      <td>29</td>\n",
       "      <td>0</td>\n",
       "      <td>79</td>\n",
       "    </tr>\n",
       "  </tbody>\n",
       "</table>\n",
       "</div>"
      ],
      "text/plain": [
       "    Matricule         Nom    Prenom  Age  Genre  Pourcentage\n",
       "0  2022020100    SAMPATWA      Diev   25      0           50\n",
       "1  2022020101     KATUMBA   Manasse   22      0           65\n",
       "2  2022020102  KIMENYEMBO    Ketsia   12      0           78\n",
       "3  2022020103      KALOKO    Charly   26      0           74\n",
       "4  2022020104     KALOMBO    Justin   19      0           69\n",
       "5  2022020105       OSOKO       Ken   21      0           63\n",
       "6  2022020106      KALUME      Yves   36      0           85\n",
       "7  2022020107        UMBA  Jonathan   15      0           91\n",
       "8  2022020108    JAPONAIS       Joe   23      0           56\n",
       "9  2022020109      KAPHIA     Jenno   29      0           79"
      ]
     },
     "execution_count": 43,
     "metadata": {},
     "output_type": "execute_result"
    }
   ],
   "source": [
    "donnees_etudiants"
   ]
  },
  {
   "cell_type": "markdown",
   "id": "3d89b57d-2ea4-4d0e-95f7-d408a642076a",
   "metadata": {},
   "source": [
    "# D. VISUALISATION DES DONNEES"
   ]
  },
  {
   "cell_type": "code",
   "execution_count": 44,
   "id": "0c8b3ec9-2859-401f-b920-adbe052beae6",
   "metadata": {
    "tags": []
   },
   "outputs": [
    {
     "data": {
      "text/plain": [
       "array([0.        , 0.04081633, 0.08163265, 0.12244898, 0.16326531,\n",
       "       0.20408163, 0.24489796, 0.28571429, 0.32653061, 0.36734694,\n",
       "       0.40816327, 0.44897959, 0.48979592, 0.53061224, 0.57142857,\n",
       "       0.6122449 , 0.65306122, 0.69387755, 0.73469388, 0.7755102 ,\n",
       "       0.81632653, 0.85714286, 0.89795918, 0.93877551, 0.97959184,\n",
       "       1.02040816, 1.06122449, 1.10204082, 1.14285714, 1.18367347,\n",
       "       1.2244898 , 1.26530612, 1.30612245, 1.34693878, 1.3877551 ,\n",
       "       1.42857143, 1.46938776, 1.51020408, 1.55102041, 1.59183673,\n",
       "       1.63265306, 1.67346939, 1.71428571, 1.75510204, 1.79591837,\n",
       "       1.83673469, 1.87755102, 1.91836735, 1.95918367, 2.        ])"
      ]
     },
     "execution_count": 44,
     "metadata": {},
     "output_type": "execute_result"
    }
   ],
   "source": [
    "# Creation des donnees\n",
    "x = np.linspace(0,2,50)\n",
    "x"
   ]
  },
  {
   "cell_type": "code",
   "execution_count": 45,
   "id": "33f2c385-6c77-43fb-a44a-f97fcabd7ffe",
   "metadata": {
    "tags": []
   },
   "outputs": [
    {
     "data": {
      "text/plain": [
       "<matplotlib.legend.Legend at 0x24b92e84c10>"
      ]
     },
     "execution_count": 45,
     "metadata": {},
     "output_type": "execute_result"
    },
    {
     "data": {
      "image/png": "[encoded data removed]",
      "text/plain": [
       "<Figure size 600x400 with 1 Axes>"
      ]
     },
     "metadata": {},
     "output_type": "display_data"
    }
   ],
   "source": [
    "fig, ax = plt.subplots(figsize=(6,4))\n",
    "ax.plot(x,x*2,label='Double')\n",
    "ax.plot(x,x**2,label='Carre de X')\n",
    "ax.plot(x,x**3,label='Cube de X')\n",
    "ax.set_xlabel('Donnees de X')\n",
    "ax.set_ylabel('Donnees de Y')\n",
    "plt.title('Donnees de linspace entre 0 et 2')\n",
    "ax.legend()"
   ]
  },
  {
   "cell_type": "code",
   "execution_count": 46,
   "id": "b5dbe260-68f9-4c29-ae96-c9cd12918abf",
   "metadata": {
    "tags": []
   },
   "outputs": [],
   "source": [
    "iris_data = sbn.load_dataset('iris')"
   ]
  },
  {
   "cell_type": "code",
   "execution_count": 47,
   "id": "889c2204-ee51-4765-8418-c126461b058c",
   "metadata": {
    "tags": []
   },
   "outputs": [
    {
     "data": {
      "text/html": [
       "<div>\n",
       "<style scoped>\n",
       "    .dataframe tbody tr th:only-of-type {\n",
       "        vertical-align: middle;\n",
       "    }\n",
       "\n",
       "    .dataframe tbody tr th {\n",
       "        vertical-align: top;\n",
       "    }\n",
       "\n",
       "    .dataframe thead th {\n",
       "        text-align: right;\n",
       "    }\n",
       "</style>\n",
       "<table border=\"1\" class=\"dataframe\">\n",
       "  <thead>\n",
       "    <tr style=\"text-align: right;\">\n",
       "      <th></th>\n",
       "      <th>sepal_length</th>\n",
       "      <th>sepal_width</th>\n",
       "      <th>petal_length</th>\n",
       "      <th>petal_width</th>\n",
       "      <th>species</th>\n",
       "    </tr>\n",
       "  </thead>\n",
       "  <tbody>\n",
       "    <tr>\n",
       "      <th>0</th>\n",
       "      <td>5.1</td>\n",
       "      <td>3.5</td>\n",
       "      <td>1.4</td>\n",
       "      <td>0.2</td>\n",
       "      <td>setosa</td>\n",
       "    </tr>\n",
       "    <tr>\n",
       "      <th>1</th>\n",
       "      <td>4.9</td>\n",
       "      <td>3.0</td>\n",
       "      <td>1.4</td>\n",
       "      <td>0.2</td>\n",
       "      <td>setosa</td>\n",
       "    </tr>\n",
       "    <tr>\n",
       "      <th>2</th>\n",
       "      <td>4.7</td>\n",
       "      <td>3.2</td>\n",
       "      <td>1.3</td>\n",
       "      <td>0.2</td>\n",
       "      <td>setosa</td>\n",
       "    </tr>\n",
       "    <tr>\n",
       "      <th>3</th>\n",
       "      <td>4.6</td>\n",
       "      <td>3.1</td>\n",
       "      <td>1.5</td>\n",
       "      <td>0.2</td>\n",
       "      <td>setosa</td>\n",
       "    </tr>\n",
       "    <tr>\n",
       "      <th>4</th>\n",
       "      <td>5.0</td>\n",
       "      <td>3.6</td>\n",
       "      <td>1.4</td>\n",
       "      <td>0.2</td>\n",
       "      <td>setosa</td>\n",
       "    </tr>\n",
       "  </tbody>\n",
       "</table>\n",
       "</div>"
      ],
      "text/plain": [
       "   sepal_length  sepal_width  petal_length  petal_width species\n",
       "0           5.1          3.5           1.4          0.2  setosa\n",
       "1           4.9          3.0           1.4          0.2  setosa\n",
       "2           4.7          3.2           1.3          0.2  setosa\n",
       "3           4.6          3.1           1.5          0.2  setosa\n",
       "4           5.0          3.6           1.4          0.2  setosa"
      ]
     },
     "execution_count": 47,
     "metadata": {},
     "output_type": "execute_result"
    }
   ],
   "source": [
    "iris_data.head()"
   ]
  },
  {
   "cell_type": "code",
   "execution_count": 48,
   "id": "436c9e56-7b7c-420c-bfc6-91e93cb0b49a",
   "metadata": {
    "tags": []
   },
   "outputs": [
    {
     "data": {
      "text/plain": [
       "(150, 5)"
      ]
     },
     "execution_count": 48,
     "metadata": {},
     "output_type": "execute_result"
    }
   ],
   "source": [
    "iris_data.shape"
   ]
  },
  {
   "cell_type": "code",
   "execution_count": 49,
   "id": "973fbeb8-1be4-46f1-89a7-a9dd76d0e309",
   "metadata": {
    "tags": []
   },
   "outputs": [
    {
     "data": {
      "text/plain": [
       "array(['setosa', 'versicolor', 'virginica'], dtype=object)"
      ]
     },
     "execution_count": 49,
     "metadata": {},
     "output_type": "execute_result"
    }
   ],
   "source": [
    "iris_data['species'].unique()"
   ]
  },
  {
   "cell_type": "code",
   "execution_count": 50,
   "id": "808c7c0d-1cff-43d5-9a7c-7c160c900959",
   "metadata": {
    "tags": []
   },
   "outputs": [
    {
     "data": {
      "text/plain": [
       "<Axes: xlabel='sepal_length', ylabel='sepal_width'>"
      ]
     },
     "execution_count": 50,
     "metadata": {},
     "output_type": "execute_result"
    },
    {
     "data": {
      "image/png": "[encoded data removed]",
      "text/plain": [
       "<Figure size 640x480 with 1 Axes>"
      ]
     },
     "metadata": {},
     "output_type": "display_data"
    }
   ],
   "source": [
    "sbn.scatterplot(x='sepal_length',y='sepal_width',data=iris_data, hue='species')"
   ]
  },
  {
   "cell_type": "code",
   "execution_count": 51,
   "id": "89fa0f8e-c674-4cc4-8f8a-5467f58343df",
   "metadata": {
    "tags": []
   },
   "outputs": [],
   "source": [
    "Mapping_Categorie = {\n",
    "    'setosa': 0,\n",
    "    'versicolor': 1,\n",
    "    'virginica':2\n",
    "}\n",
    "\n"
   ]
  },
  {
   "cell_type": "code",
   "execution_count": 52,
   "id": "c6a11950-2551-400a-8c21-1c5f2d0ac765",
   "metadata": {
    "tags": []
   },
   "outputs": [],
   "source": [
    "iris_data['species'] = iris_data['species'].map(Mapping_Categorie)"
   ]
  },
  {
   "cell_type": "code",
   "execution_count": 53,
   "id": "f3bf5c07-3ffd-435f-b5e8-ec77751dfa12",
   "metadata": {
    "tags": []
   },
   "outputs": [
    {
     "data": {
      "text/html": [
       "<div>\n",
       "<style scoped>\n",
       "    .dataframe tbody tr th:only-of-type {\n",
       "        vertical-align: middle;\n",
       "    }\n",
       "\n",
       "    .dataframe tbody tr th {\n",
       "        vertical-align: top;\n",
       "    }\n",
       "\n",
       "    .dataframe thead th {\n",
       "        text-align: right;\n",
       "    }\n",
       "</style>\n",
       "<table border=\"1\" class=\"dataframe\">\n",
       "  <thead>\n",
       "    <tr style=\"text-align: right;\">\n",
       "      <th></th>\n",
       "      <th>sepal_length</th>\n",
       "      <th>sepal_width</th>\n",
       "      <th>petal_length</th>\n",
       "      <th>petal_width</th>\n",
       "      <th>species</th>\n",
       "    </tr>\n",
       "  </thead>\n",
       "  <tbody>\n",
       "    <tr>\n",
       "      <th>0</th>\n",
       "      <td>5.1</td>\n",
       "      <td>3.5</td>\n",
       "      <td>1.4</td>\n",
       "      <td>0.2</td>\n",
       "      <td>0</td>\n",
       "    </tr>\n",
       "    <tr>\n",
       "      <th>1</th>\n",
       "      <td>4.9</td>\n",
       "      <td>3.0</td>\n",
       "      <td>1.4</td>\n",
       "      <td>0.2</td>\n",
       "      <td>0</td>\n",
       "    </tr>\n",
       "    <tr>\n",
       "      <th>2</th>\n",
       "      <td>4.7</td>\n",
       "      <td>3.2</td>\n",
       "      <td>1.3</td>\n",
       "      <td>0.2</td>\n",
       "      <td>0</td>\n",
       "    </tr>\n",
       "    <tr>\n",
       "      <th>3</th>\n",
       "      <td>4.6</td>\n",
       "      <td>3.1</td>\n",
       "      <td>1.5</td>\n",
       "      <td>0.2</td>\n",
       "      <td>0</td>\n",
       "    </tr>\n",
       "    <tr>\n",
       "      <th>4</th>\n",
       "      <td>5.0</td>\n",
       "      <td>3.6</td>\n",
       "      <td>1.4</td>\n",
       "      <td>0.2</td>\n",
       "      <td>0</td>\n",
       "    </tr>\n",
       "  </tbody>\n",
       "</table>\n",
       "</div>"
      ],
      "text/plain": [
       "   sepal_length  sepal_width  petal_length  petal_width  species\n",
       "0           5.1          3.5           1.4          0.2        0\n",
       "1           4.9          3.0           1.4          0.2        0\n",
       "2           4.7          3.2           1.3          0.2        0\n",
       "3           4.6          3.1           1.5          0.2        0\n",
       "4           5.0          3.6           1.4          0.2        0"
      ]
     },
     "execution_count": 53,
     "metadata": {},
     "output_type": "execute_result"
    }
   ],
   "source": [
    "iris_data.head()"
   ]
  },
  {
   "cell_type": "code",
   "execution_count": 54,
   "id": "cd962e46-4554-4ccd-bcb4-71fa1d4ca681",
   "metadata": {
    "tags": []
   },
   "outputs": [
    {
     "data": {
      "text/plain": [
       "array([0, 1, 2], dtype=int64)"
      ]
     },
     "execution_count": 54,
     "metadata": {},
     "output_type": "execute_result"
    }
   ],
   "source": [
    "iris_data['species'].unique()"
   ]
  },
  {
   "cell_type": "code",
   "execution_count": null,
   "id": "dabcf311",
   "metadata": {},
   "outputs": [],
   "source": []
  }
 ],
 "metadata": {
  "kernelspec": {
   "display_name": "Python 3 (ipykernel)",
   "language": "python",
   "name": "python3"
  },
  "language_info": {
   "codemirror_mode": {
    "name": "ipython",
    "version": 3
   },
   "file_extension": ".py",
   "mimetype": "text/x-python",
   "name": "python",
   "nbconvert_exporter": "python",
   "pygments_lexer": "ipython3",
   "version": "3.11.11"
  },
  "toc-autonumbering": false
 },
 "nbformat": 4,
 "nbformat_minor": 5
}
